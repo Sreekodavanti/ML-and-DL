{
  "cells": [
    {
      "cell_type": "markdown",
      "metadata": {
        "id": "view-in-github",
        "colab_type": "text"
      },
      "source": [
        "<a href=\"https://colab.research.google.com/github/Sreekodavanti/ML-and-DL/blob/main/Deep_Neural_Networks_penguin_classification_2(TensorFlow).ipynb\" target=\"_parent\"><img src=\"https://colab.research.google.com/assets/colab-badge.svg\" alt=\"Open In Colab\"/></a>"
      ]
    },
    {
      "cell_type": "markdown",
      "metadata": {
        "id": "84u3wJoW-KBp"
      },
      "source": [
        "# Deep Learning with TensorFlow\n",
        "\n",
        "Classical machine learning relies on using statistics to determine relationships between features and labels, and can be very effective for creating predictive models. However, a massive growth in the availability of data coupled with advances in the computing technology required to process it has led to the emergence of new machine learning techniques that mimic the way the brain processes information in a structure called an artificial neural network.\n",
        "\n",
        "TensorFlow is a framework for creating machine learning models, including deep neural networks (DNNs). In this example, we'll use Tensorflow to create a simple neural network that classifies penguins into species based on the length and depth of their culmen (bill), their flipper length, and their body mass.\n",
        "\n",
        "> **Citation**: The penguins dataset used in the this exercise is a subset of data collected and made available by [Dr. Kristen\n",
        "Gorman](https://www.uaf.edu/cfos/people/faculty/detail/kristen-gorman.php)\n",
        "and the [Palmer Station, Antarctica LTER](https://pal.lternet.edu/), a\n",
        "member of the [Long Term Ecological Research\n",
        "Network](https://lternet.edu/).\n",
        "\n",
        "## Explore the dataset\n",
        "\n",
        "Before we start using TensorFlow to create a model, let's load the data we need from the Palmer Islands penguins dataset, which contains observations of three different species of penguin.\n",
        "\n",
        "> **Note**: In reality, you can solve the penguin classification problem easily using classical machine learning techniques without the need for a deep learning model; but it's a useful, easy to understand dataset with which to demonstrate the principles of neural networks in this notebook."
      ]
    },
    {
      "cell_type": "code",
      "execution_count": null,
      "metadata": {
        "id": "kUt2y56G-KBt",
        "outputId": "83e53b0c-6132-44f3-a3aa-71c96f6104f6"
      },
      "outputs": [
        {
          "data": {
            "text/html": [
              "<div>\n",
              "<style scoped>\n",
              "    .dataframe tbody tr th:only-of-type {\n",
              "        vertical-align: middle;\n",
              "    }\n",
              "\n",
              "    .dataframe tbody tr th {\n",
              "        vertical-align: top;\n",
              "    }\n",
              "\n",
              "    .dataframe thead th {\n",
              "        text-align: right;\n",
              "    }\n",
              "</style>\n",
              "<table border=\"1\" class=\"dataframe\">\n",
              "  <thead>\n",
              "    <tr style=\"text-align: right;\">\n",
              "      <th></th>\n",
              "      <th>CulmenLength</th>\n",
              "      <th>CulmenDepth</th>\n",
              "      <th>FlipperLength</th>\n",
              "      <th>BodyMass</th>\n",
              "      <th>Species</th>\n",
              "    </tr>\n",
              "  </thead>\n",
              "  <tbody>\n",
              "    <tr>\n",
              "      <th>333</th>\n",
              "      <td>49.3</td>\n",
              "      <td>19.9</td>\n",
              "      <td>20.3</td>\n",
              "      <td>40.50</td>\n",
              "      <td>2</td>\n",
              "    </tr>\n",
              "    <tr>\n",
              "      <th>98</th>\n",
              "      <td>33.1</td>\n",
              "      <td>16.1</td>\n",
              "      <td>17.8</td>\n",
              "      <td>29.00</td>\n",
              "      <td>0</td>\n",
              "    </tr>\n",
              "    <tr>\n",
              "      <th>16</th>\n",
              "      <td>38.7</td>\n",
              "      <td>19.0</td>\n",
              "      <td>19.5</td>\n",
              "      <td>34.50</td>\n",
              "      <td>0</td>\n",
              "    </tr>\n",
              "    <tr>\n",
              "      <th>192</th>\n",
              "      <td>42.7</td>\n",
              "      <td>13.7</td>\n",
              "      <td>20.8</td>\n",
              "      <td>39.50</td>\n",
              "      <td>1</td>\n",
              "    </tr>\n",
              "    <tr>\n",
              "      <th>264</th>\n",
              "      <td>43.5</td>\n",
              "      <td>15.2</td>\n",
              "      <td>21.3</td>\n",
              "      <td>46.50</td>\n",
              "      <td>1</td>\n",
              "    </tr>\n",
              "    <tr>\n",
              "      <th>116</th>\n",
              "      <td>38.6</td>\n",
              "      <td>17.0</td>\n",
              "      <td>18.8</td>\n",
              "      <td>29.00</td>\n",
              "      <td>0</td>\n",
              "    </tr>\n",
              "    <tr>\n",
              "      <th>172</th>\n",
              "      <td>50.2</td>\n",
              "      <td>14.3</td>\n",
              "      <td>21.8</td>\n",
              "      <td>57.00</td>\n",
              "      <td>1</td>\n",
              "    </tr>\n",
              "    <tr>\n",
              "      <th>215</th>\n",
              "      <td>54.3</td>\n",
              "      <td>15.7</td>\n",
              "      <td>23.1</td>\n",
              "      <td>56.50</td>\n",
              "      <td>1</td>\n",
              "    </tr>\n",
              "    <tr>\n",
              "      <th>7</th>\n",
              "      <td>39.2</td>\n",
              "      <td>19.6</td>\n",
              "      <td>19.5</td>\n",
              "      <td>46.75</td>\n",
              "      <td>0</td>\n",
              "    </tr>\n",
              "    <tr>\n",
              "      <th>252</th>\n",
              "      <td>48.5</td>\n",
              "      <td>15.0</td>\n",
              "      <td>21.9</td>\n",
              "      <td>48.50</td>\n",
              "      <td>1</td>\n",
              "    </tr>\n",
              "  </tbody>\n",
              "</table>\n",
              "</div>"
            ],
            "text/plain": [
              "     CulmenLength  CulmenDepth  FlipperLength  BodyMass  Species\n",
              "333          49.3         19.9           20.3     40.50        2\n",
              "98           33.1         16.1           17.8     29.00        0\n",
              "16           38.7         19.0           19.5     34.50        0\n",
              "192          42.7         13.7           20.8     39.50        1\n",
              "264          43.5         15.2           21.3     46.50        1\n",
              "116          38.6         17.0           18.8     29.00        0\n",
              "172          50.2         14.3           21.8     57.00        1\n",
              "215          54.3         15.7           23.1     56.50        1\n",
              "7            39.2         19.6           19.5     46.75        0\n",
              "252          48.5         15.0           21.9     48.50        1"
            ]
          },
          "execution_count": 1,
          "metadata": {},
          "output_type": "execute_result"
        }
      ],
      "source": [
        "import pandas as pd\n",
        "\n",
        "# load the training dataset (excluding rows with null values)\n",
        "penguins = pd.read_csv('penguins.csv').dropna()\n",
        "\n",
        "# Deep Learning models work best when features are on similar scales\n",
        "# In a real solution, we'd implement some custom normalization for each feature, but to keep things simple\n",
        "# we'll just rescale the FlipperLength and BodyMass so they're on a similar scale to the bill measurements\n",
        "penguins['FlipperLength'] = penguins['FlipperLength']/10\n",
        "penguins['BodyMass'] = penguins['BodyMass']/100\n",
        "\n",
        "# The dataset is too small to be useful for deep learning\n",
        "# So we'll oversample it to increase its size\n",
        "for i in range(1,3):\n",
        "    penguins = penguins.append(penguins)\n",
        "\n",
        "# Display a random sample of 10 observations\n",
        "sample = penguins.sample(10)\n",
        "sample"
      ]
    },
    {
      "cell_type": "markdown",
      "metadata": {
        "id": "W7gLCOBW-KBw"
      },
      "source": [
        "The **Species** column is the label our model will predict. Each label value represents a class of penguin species, encoded as 0, 1, or 2. The following code shows the actual species to which these class labels corrrespond."
      ]
    },
    {
      "cell_type": "code",
      "execution_count": null,
      "metadata": {
        "tags": [],
        "id": "3NDZdBzk-KBw",
        "outputId": "bde3cc6e-105a-4151-d349-a7d2dba1278b"
      },
      "outputs": [
        {
          "name": "stdout",
          "output_type": "stream",
          "text": [
            "['CulmenLength' 'CulmenDepth' 'FlipperLength' 'BodyMass' 'Species'] SpeciesName\n",
            "[ 50.9 19.1 19.6 35.5 2 ] Chinstrap\n",
            "[ 37.9 18.6 17.2 31.5 0 ] Adelie\n",
            "[ 50.5 18.4 20.0 34.0 2 ] Chinstrap\n",
            "[ 48.4 14.4 20.3 46.25 1 ] Gentoo\n",
            "[ 50.4 15.3 22.4 55.5 1 ] Gentoo\n",
            "[ 53.5 19.9 20.5 45.0 2 ] Chinstrap\n",
            "[ 58.0 17.8 18.1 37.0 2 ] Chinstrap\n",
            "[ 36.7 19.3 19.3 34.5 0 ] Adelie\n",
            "[ 38.9 18.8 19.0 36.0 0 ] Adelie\n",
            "[ 41.6 18.0 19.2 39.5 0 ] Adelie\n"
          ]
        }
      ],
      "source": [
        "penguin_classes = ['Adelie', 'Gentoo', 'Chinstrap']\n",
        "print(sample.columns[0:5].values, 'SpeciesName')\n",
        "for index, row in penguins.sample(10).iterrows():\n",
        "    print('[',row[0], row[1], row[2],row[3], int(row[4]), ']',penguin_classes[int(row[-1])])"
      ]
    },
    {
      "cell_type": "markdown",
      "metadata": {
        "id": "_B8rmAsX-KBx"
      },
      "source": [
        "As is common in a supervised learning problem, we'll split the dataset into a set of records with which to train the model, and a smaller set with which to validate the trained model."
      ]
    },
    {
      "cell_type": "code",
      "execution_count": null,
      "metadata": {
        "tags": [],
        "id": "3uUmUt__-KBx",
        "outputId": "879ea402-e478-44a0-b6d7-7a703d24e969"
      },
      "outputs": [
        {
          "name": "stdout",
          "output_type": "stream",
          "text": [
            "Training Set: 957, Test Set: 411 \n",
            "\n",
            "Sample of features and labels:\n",
            "[51.1 16.5 22.5 52.5] 1 (Gentoo)\n",
            "[50.7 19.7 20.3 40.5] 2 (Chinstrap)\n",
            "[49.5 16.2 22.9 58. ] 1 (Gentoo)\n",
            "[39.3 20.6 19.  36.5] 0 (Adelie)\n",
            "[42.5 20.7 19.7 45. ] 0 (Adelie)\n",
            "[50.  15.3 22.  55.5] 1 (Gentoo)\n",
            "[50.2  18.7  19.8  37.75] 2 (Chinstrap)\n",
            "[50.7 19.7 20.3 40.5] 2 (Chinstrap)\n",
            "[49.1  14.5  21.2  46.25] 1 (Gentoo)\n",
            "[43.2 16.6 18.7 29. ] 2 (Chinstrap)\n",
            "[38.8  17.6  19.1  32.75] 0 (Adelie)\n",
            "[37.8 17.1 18.6 33. ] 0 (Adelie)\n",
            "[45.8 14.2 21.9 47. ] 1 (Gentoo)\n",
            "[43.8 13.9 20.8 43. ] 1 (Gentoo)\n",
            "[36.  17.1 18.7 37. ] 0 (Adelie)\n",
            "[43.3 13.4 20.9 44. ] 1 (Gentoo)\n",
            "[36.  18.5 18.6 31. ] 0 (Adelie)\n",
            "[41.1  19.   18.2  34.25] 0 (Adelie)\n",
            "[33.1 16.1 17.8 29. ] 0 (Adelie)\n",
            "[40.9 13.7 21.4 46.5] 1 (Gentoo)\n",
            "[45.2 17.8 19.8 39.5] 2 (Chinstrap)\n",
            "[48.4 14.6 21.3 58.5] 1 (Gentoo)\n",
            "[43.6 13.9 21.7 49. ] 1 (Gentoo)\n",
            "[38.5  17.9  19.   33.25] 0 (Adelie)\n"
          ]
        }
      ],
      "source": [
        "from sklearn.model_selection import train_test_split\n",
        "\n",
        "features = ['CulmenLength','CulmenDepth','FlipperLength','BodyMass']\n",
        "label = 'Species'\n",
        "\n",
        "# Split data 70%-30% into training set and test set\n",
        "x_train, x_test, y_train, y_test = train_test_split(penguins[features].values,\n",
        "                                                    penguins[label].values,\n",
        "                                                    test_size=0.30,\n",
        "                                                    random_state=0)\n",
        "\n",
        "print ('Training Set: %d, Test Set: %d \\n' % (len(x_train), len(x_test)))\n",
        "print(\"Sample of features and labels:\")\n",
        "\n",
        "# Take a look at the first 25 training features and corresponding labels\n",
        "for n in range(0,24):\n",
        "    print(x_train[n], y_train[n], '(' + penguin_classes[y_train[n]] + ')')"
      ]
    },
    {
      "cell_type": "markdown",
      "metadata": {
        "id": "oV40_W05-KBy"
      },
      "source": [
        "The *features* are the measurements for each penguin observation, and the *label* is a numeric value that indicates the species of penguin that the observation represents (Adelie, Gentoo, or Chinstrap).\n",
        "\n",
        "## Install and import TensorFlow libraries\n",
        "\n",
        "Since we plan to use TensorFlow to create our penguin classifier, we'll need to run the following two cells to install and import the libraries we intend to use.\n",
        "\n",
        "> **Note** *Keras* is an abstraction layer over the base TensorFlow API. In most common machine learning scenarios, you can use Keras to simplify your code."
      ]
    },
    {
      "cell_type": "code",
      "execution_count": null,
      "metadata": {
        "id": "oabbK1cR-KBz",
        "outputId": "8246547c-9d0c-4dd1-a0fc-8aa12d017c5f"
      },
      "outputs": [
        {
          "name": "stdout",
          "output_type": "stream",
          "text": [
            "Requirement already satisfied: tensorflow in c:\\users\\samaneh.laptop-g15n0k6g\\anaconda3\\lib\\site-packages (2.13.0)\n",
            "Collecting tensorflow\n",
            "  Using cached tensorflow-2.13.1-cp38-cp38-win_amd64.whl (1.9 kB)\n",
            "Requirement already satisfied: tensorflow-intel==2.13.0 in c:\\users\\samaneh.laptop-g15n0k6g\\anaconda3\\lib\\site-packages (from tensorflow) (2.13.0)\n",
            "Requirement already satisfied: six>=1.12.0 in c:\\users\\samaneh.laptop-g15n0k6g\\anaconda3\\lib\\site-packages (from tensorflow-intel==2.13.0->tensorflow) (1.16.0)\n",
            "Requirement already satisfied: tensorflow-estimator<2.14,>=2.13.0 in c:\\users\\samaneh.laptop-g15n0k6g\\anaconda3\\lib\\site-packages (from tensorflow-intel==2.13.0->tensorflow) (2.13.0)\n",
            "Requirement already satisfied: protobuf!=4.21.0,!=4.21.1,!=4.21.2,!=4.21.3,!=4.21.4,!=4.21.5,<5.0.0dev,>=3.20.3 in c:\\users\\samaneh.laptop-g15n0k6g\\anaconda3\\lib\\site-packages (from tensorflow-intel==2.13.0->tensorflow) (4.24.3)\n",
            "Requirement already satisfied: wrapt>=1.11.0 in c:\\users\\samaneh.laptop-g15n0k6g\\anaconda3\\lib\\site-packages (from tensorflow-intel==2.13.0->tensorflow) (1.12.1)\n",
            "Requirement already satisfied: typing-extensions<4.6.0,>=3.6.6 in c:\\users\\samaneh.laptop-g15n0k6g\\anaconda3\\lib\\site-packages (from tensorflow-intel==2.13.0->tensorflow) (3.10.0.2)\n",
            "Requirement already satisfied: termcolor>=1.1.0 in c:\\users\\samaneh.laptop-g15n0k6g\\anaconda3\\lib\\site-packages (from tensorflow-intel==2.13.0->tensorflow) (2.3.0)\n",
            "Requirement already satisfied: astunparse>=1.6.0 in c:\\users\\samaneh.laptop-g15n0k6g\\anaconda3\\lib\\site-packages (from tensorflow-intel==2.13.0->tensorflow) (1.6.3)\n",
            "Requirement already satisfied: absl-py>=1.0.0 in c:\\users\\samaneh.laptop-g15n0k6g\\anaconda3\\lib\\site-packages (from tensorflow-intel==2.13.0->tensorflow) (2.0.0)\n",
            "Requirement already satisfied: flatbuffers>=23.1.21 in c:\\users\\samaneh.laptop-g15n0k6g\\anaconda3\\lib\\site-packages (from tensorflow-intel==2.13.0->tensorflow) (23.5.26)\n",
            "Requirement already satisfied: libclang>=13.0.0 in c:\\users\\samaneh.laptop-g15n0k6g\\anaconda3\\lib\\site-packages (from tensorflow-intel==2.13.0->tensorflow) (16.0.6)\n",
            "Requirement already satisfied: opt-einsum>=2.3.2 in c:\\users\\samaneh.laptop-g15n0k6g\\anaconda3\\lib\\site-packages (from tensorflow-intel==2.13.0->tensorflow) (3.3.0)\n",
            "Requirement already satisfied: tensorboard<2.14,>=2.13 in c:\\users\\samaneh.laptop-g15n0k6g\\anaconda3\\lib\\site-packages (from tensorflow-intel==2.13.0->tensorflow) (2.13.0)\n",
            "Requirement already satisfied: packaging in c:\\users\\samaneh.laptop-g15n0k6g\\anaconda3\\lib\\site-packages (from tensorflow-intel==2.13.0->tensorflow) (21.3)\n",
            "Requirement already satisfied: keras<2.14,>=2.13.1 in c:\\users\\samaneh.laptop-g15n0k6g\\anaconda3\\lib\\site-packages (from tensorflow-intel==2.13.0->tensorflow) (2.13.1)\n",
            "Requirement already satisfied: h5py>=2.9.0 in c:\\users\\samaneh.laptop-g15n0k6g\\anaconda3\\lib\\site-packages (from tensorflow-intel==2.13.0->tensorflow) (2.10.0)\n",
            "Requirement already satisfied: setuptools in c:\\users\\samaneh.laptop-g15n0k6g\\anaconda3\\lib\\site-packages (from tensorflow-intel==2.13.0->tensorflow) (58.0.4)\n",
            "Requirement already satisfied: numpy<=1.24.3,>=1.22 in c:\\users\\samaneh.laptop-g15n0k6g\\anaconda3\\lib\\site-packages (from tensorflow-intel==2.13.0->tensorflow) (1.22.1)\n",
            "Requirement already satisfied: tensorflow-io-gcs-filesystem>=0.23.1 in c:\\users\\samaneh.laptop-g15n0k6g\\anaconda3\\lib\\site-packages (from tensorflow-intel==2.13.0->tensorflow) (0.31.0)\n",
            "Requirement already satisfied: grpcio<2.0,>=1.24.3 in c:\\users\\samaneh.laptop-g15n0k6g\\anaconda3\\lib\\site-packages (from tensorflow-intel==2.13.0->tensorflow) (1.59.0)\n",
            "Requirement already satisfied: google-pasta>=0.1.1 in c:\\users\\samaneh.laptop-g15n0k6g\\anaconda3\\lib\\site-packages (from tensorflow-intel==2.13.0->tensorflow) (0.2.0)\n",
            "Requirement already satisfied: gast<=0.4.0,>=0.2.1 in c:\\users\\samaneh.laptop-g15n0k6g\\anaconda3\\lib\\site-packages (from tensorflow-intel==2.13.0->tensorflow) (0.4.0)\n",
            "Requirement already satisfied: wheel<1.0,>=0.23.0 in c:\\users\\samaneh.laptop-g15n0k6g\\anaconda3\\lib\\site-packages (from astunparse>=1.6.0->tensorflow-intel==2.13.0->tensorflow) (0.37.0)\n",
            "Requirement already satisfied: werkzeug>=1.0.1 in c:\\users\\samaneh.laptop-g15n0k6g\\anaconda3\\lib\\site-packages (from tensorboard<2.14,>=2.13->tensorflow-intel==2.13.0->tensorflow) (2.0.2)\n",
            "Requirement already satisfied: markdown>=2.6.8 in c:\\users\\samaneh.laptop-g15n0k6g\\anaconda3\\lib\\site-packages (from tensorboard<2.14,>=2.13->tensorflow-intel==2.13.0->tensorflow) (3.4.4)\n",
            "Requirement already satisfied: requests<3,>=2.21.0 in c:\\users\\samaneh.laptop-g15n0k6g\\anaconda3\\lib\\site-packages (from tensorboard<2.14,>=2.13->tensorflow-intel==2.13.0->tensorflow) (2.26.0)\n",
            "Requirement already satisfied: google-auth<3,>=1.6.3 in c:\\users\\samaneh.laptop-g15n0k6g\\anaconda3\\lib\\site-packages (from tensorboard<2.14,>=2.13->tensorflow-intel==2.13.0->tensorflow) (2.23.2)\n",
            "Requirement already satisfied: google-auth-oauthlib<1.1,>=0.5 in c:\\users\\samaneh.laptop-g15n0k6g\\anaconda3\\lib\\site-packages (from tensorboard<2.14,>=2.13->tensorflow-intel==2.13.0->tensorflow) (1.0.0)\n",
            "Requirement already satisfied: tensorboard-data-server<0.8.0,>=0.7.0 in c:\\users\\samaneh.laptop-g15n0k6g\\anaconda3\\lib\\site-packages (from tensorboard<2.14,>=2.13->tensorflow-intel==2.13.0->tensorflow) (0.7.1)\n",
            "Requirement already satisfied: pyasn1-modules>=0.2.1 in c:\\users\\samaneh.laptop-g15n0k6g\\anaconda3\\lib\\site-packages (from google-auth<3,>=1.6.3->tensorboard<2.14,>=2.13->tensorflow-intel==2.13.0->tensorflow) (0.3.0)\n",
            "Requirement already satisfied: rsa<5,>=3.1.4 in c:\\users\\samaneh.laptop-g15n0k6g\\anaconda3\\lib\\site-packages (from google-auth<3,>=1.6.3->tensorboard<2.14,>=2.13->tensorflow-intel==2.13.0->tensorflow) (4.9)\n",
            "Requirement already satisfied: cachetools<6.0,>=2.0.0 in c:\\users\\samaneh.laptop-g15n0k6g\\anaconda3\\lib\\site-packages (from google-auth<3,>=1.6.3->tensorboard<2.14,>=2.13->tensorflow-intel==2.13.0->tensorflow) (5.3.1)\n",
            "Requirement already satisfied: requests-oauthlib>=0.7.0 in c:\\users\\samaneh.laptop-g15n0k6g\\anaconda3\\lib\\site-packages (from google-auth-oauthlib<1.1,>=0.5->tensorboard<2.14,>=2.13->tensorflow-intel==2.13.0->tensorflow) (1.3.1)\n",
            "Requirement already satisfied: importlib-metadata>=4.4 in c:\\users\\samaneh.laptop-g15n0k6g\\anaconda3\\lib\\site-packages (from markdown>=2.6.8->tensorboard<2.14,>=2.13->tensorflow-intel==2.13.0->tensorflow) (4.8.2)\n",
            "Requirement already satisfied: zipp>=0.5 in c:\\users\\samaneh.laptop-g15n0k6g\\anaconda3\\lib\\site-packages (from importlib-metadata>=4.4->markdown>=2.6.8->tensorboard<2.14,>=2.13->tensorflow-intel==2.13.0->tensorflow) (3.6.0)\n",
            "Requirement already satisfied: pyasn1<0.6.0,>=0.4.6 in c:\\users\\samaneh.laptop-g15n0k6g\\anaconda3\\lib\\site-packages (from pyasn1-modules>=0.2.1->google-auth<3,>=1.6.3->tensorboard<2.14,>=2.13->tensorflow-intel==2.13.0->tensorflow) (0.5.0)\n",
            "Requirement already satisfied: idna<4,>=2.5 in c:\\users\\samaneh.laptop-g15n0k6g\\anaconda3\\lib\\site-packages (from requests<3,>=2.21.0->tensorboard<2.14,>=2.13->tensorflow-intel==2.13.0->tensorflow) (3.3)\n",
            "Requirement already satisfied: urllib3<1.27,>=1.21.1 in c:\\users\\samaneh.laptop-g15n0k6g\\anaconda3\\lib\\site-packages (from requests<3,>=2.21.0->tensorboard<2.14,>=2.13->tensorflow-intel==2.13.0->tensorflow) (1.26.7)\n",
            "Requirement already satisfied: certifi>=2017.4.17 in c:\\users\\samaneh.laptop-g15n0k6g\\anaconda3\\lib\\site-packages (from requests<3,>=2.21.0->tensorboard<2.14,>=2.13->tensorflow-intel==2.13.0->tensorflow) (2021.10.8)\n",
            "Requirement already satisfied: charset-normalizer~=2.0.0 in c:\\users\\samaneh.laptop-g15n0k6g\\anaconda3\\lib\\site-packages (from requests<3,>=2.21.0->tensorboard<2.14,>=2.13->tensorflow-intel==2.13.0->tensorflow) (2.0.4)\n",
            "Requirement already satisfied: oauthlib>=3.0.0 in c:\\users\\samaneh.laptop-g15n0k6g\\anaconda3\\lib\\site-packages (from requests-oauthlib>=0.7.0->google-auth-oauthlib<1.1,>=0.5->tensorboard<2.14,>=2.13->tensorflow-intel==2.13.0->tensorflow) (3.2.2)\n",
            "Requirement already satisfied: pyparsing!=3.0.5,>=2.0.2 in c:\\users\\samaneh.laptop-g15n0k6g\\anaconda3\\lib\\site-packages (from packaging->tensorflow-intel==2.13.0->tensorflow) (3.0.4)\n"
          ]
        }
      ],
      "source": [
        "!pip install --upgrade tensorflow"
      ]
    },
    {
      "cell_type": "code",
      "execution_count": null,
      "metadata": {
        "tags": [],
        "id": "0-rpLe3P-KBz",
        "outputId": "1279cfcd-80e0-4f4c-f470-b0933da5c127"
      },
      "outputs": [
        {
          "name": "stdout",
          "output_type": "stream",
          "text": [
            "Libraries imported.\n",
            "TensorFlow version: 2.13.0\n"
          ]
        }
      ],
      "source": [
        "import tensorflow\n",
        "from tensorflow import keras\n",
        "from tensorflow.keras import models\n",
        "from tensorflow.keras.models import Sequential\n",
        "from tensorflow.keras.layers import Dense\n",
        "from tensorflow.keras import utils\n",
        "from tensorflow.keras import optimizers\n",
        "\n",
        "# Set random seed for reproducability\n",
        "tensorflow.random.set_seed(0)\n",
        "\n",
        "print(\"Libraries imported.\")\n",
        "# print('Keras version:',keras.__version__)\n",
        "print('TensorFlow version:',tensorflow.__version__)"
      ]
    },
    {
      "cell_type": "markdown",
      "metadata": {
        "id": "8rKiQ7qA-KB0"
      },
      "source": [
        "## Prepare the data for TensorFlow\n",
        "\n",
        "We've already loaded our data and split it into training and validation datasets. However, we need to do some further data preparation so that our data will work correctly with TensorFlow. Specifically, we need to set the data type of our features to 32-bit floating point numbers, and specify that the labels represent categorical classes rather than numeric values."
      ]
    },
    {
      "cell_type": "code",
      "execution_count": null,
      "metadata": {
        "tags": [],
        "id": "CK5XHleQ-KB0",
        "outputId": "6f687e0e-b625-4c82-c4dc-8e31a4c09302"
      },
      "outputs": [
        {
          "name": "stdout",
          "output_type": "stream",
          "text": [
            "Ready...\n"
          ]
        }
      ],
      "source": [
        "# Set data types for float features\n",
        "x_train = x_train.astype('float32')\n",
        "x_test = x_test.astype('float32')\n",
        "\n",
        "# Set data types for categorical labels\n",
        "y_train = utils.to_categorical(y_train)\n",
        "y_test = utils.to_categorical(y_test)\n",
        "print('Ready...')"
      ]
    },
    {
      "cell_type": "markdown",
      "metadata": {
        "id": "XvxPTh_V-KB1"
      },
      "source": [
        "## Define a neural network\n",
        "\n",
        "Now we're ready to define our neural network. In this case, we'll create a network that consists of 3 fully-connected layers:\n",
        "* An input layer that receives an input value for each feature (in this case, the four penguin measurements) and applies a *ReLU* activation function.\n",
        "* A hidden layer that receives ten inputs and applies a *ReLU* activation function.\n",
        "* An output layer that uses a *SoftMax* activation function to generate an output for each penguin species (which represent the classification probabilities for each of the three possible penguin species). Softmax functions produce a vector with probability values that sum to 1."
      ]
    },
    {
      "cell_type": "code",
      "execution_count": null,
      "metadata": {
        "tags": [],
        "id": "DLYhUTz2-KB1",
        "outputId": "b4d868f7-9075-44a6-9d9c-55ad57c2655d"
      },
      "outputs": [
        {
          "name": "stdout",
          "output_type": "stream",
          "text": [
            "Model: \"sequential\"\n",
            "_________________________________________________________________\n",
            " Layer (type)                Output Shape              Param #   \n",
            "=================================================================\n",
            " dense (Dense)               (None, 10)                50        \n",
            "                                                                 \n",
            " dense_1 (Dense)             (None, 10)                110       \n",
            "                                                                 \n",
            " dense_2 (Dense)             (None, 3)                 33        \n",
            "                                                                 \n",
            "=================================================================\n",
            "Total params: 193 (772.00 Byte)\n",
            "Trainable params: 193 (772.00 Byte)\n",
            "Non-trainable params: 0 (0.00 Byte)\n",
            "_________________________________________________________________\n",
            "None\n"
          ]
        }
      ],
      "source": [
        "# Define a classifier network\n",
        "hl = 10 # Number of hidden layer nodes\n",
        "\n",
        "#In Keras, a sequential model is appropriate for a plain stack of layers where each layer has exactly one input tensor and one output tensor.\n",
        "model = Sequential()\n",
        "\n",
        "#creates a dense layer with 10 neurons, expecting an input with 5 features, and applies the ReLU activation function.\n",
        "model.add(Dense(hl, input_dim=len(features), activation='relu'))\n",
        "\n",
        "model.add(Dense(hl, input_dim=hl, activation='relu'))\n",
        "model.add(Dense(len(penguin_classes), input_dim=hl, activation='softmax'))\n",
        "\n",
        "print(model.summary())"
      ]
    },
    {
      "cell_type": "markdown",
      "metadata": {
        "id": "ln3LK_dt-KB2"
      },
      "source": [
        "The calculation of parameters in a dense layer of a neural network depends on the number of input units (neurons) and the number of output units (neurons) in that layer.\n",
        "\n",
        "The number of parameters in a dense layer is calculated by:\n",
        "\n",
        "Number of parameters = (number of input units+ 1) x number of output units\n",
        "\n",
        "Here's the breakdown:\n",
        "\n",
        "(4 + 1) x 10 = 50\n",
        "\n",
        "In this equation:\n",
        "\n",
        "- The \"+1\" is for the bias term associated with each neuron in the layer.\n",
        "- The \"4\" comes from the four input units.\n",
        "- The \"10\" comes from the ten output units.\n",
        "\n",
        "So, the first dense layer has a total of 50 parameters, which includes weights and biases."
      ]
    },
    {
      "cell_type": "markdown",
      "metadata": {
        "id": "1m6EzLST-KB2"
      },
      "source": [
        "--------------------------------------------------------\n",
        "In the context of neural networks and deep learning, `Dense` refers to a type of layer. A `Dense` layer, also known as a fully connected layer, is one of the fundamental types of layers in neural network architecture.\n",
        "\n",
        "Here's what a Dense layer does:\n",
        "\n",
        "1. **Connectivity**: Every neuron in a dense layer is connected to every neuron in the previous and subsequent layers. This means each neuron receives input from all the neurons in the previous layer and sends its output to all the neurons in the next layer.\n",
        "\n",
        "2. **Weights**: Each connection between neurons has an associated weight. These weights are the parameters that the neural network learns during the training process.\n",
        "\n",
        "3. **Biases**: Each neuron also has an associated bias term. This bias term allows the neuron to adjust its output independently of the inputs.\n",
        "\n",
        "4. **Activation Function**: Each neuron in a dense layer applies an activation function to the weighted sum of its inputs plus the bias term.\n",
        "\n",
        "In code, using libraries like Keras or TensorFlow, you create a Dense layer with a specified number of neurons (units), an activation function, and sometimes an input shape (though it's automatically inferred in many cases).\n",
        "\n",
        "\n",
        "The Dense layer is called \"dense\" because every neuron in the layer is densely connected to every neuron in the previous and subsequent layers. This is in contrast to other types of layers, like convolutional layers, where neurons are connected to only a subset of the neurons in the previous layer."
      ]
    },
    {
      "cell_type": "markdown",
      "metadata": {
        "id": "lAJpO_LP-KB2"
      },
      "source": [
        "## Train the model\n",
        "\n",
        "To train the model, we need to repeatedly feed the training values forward through the network, use a loss function to calculate the loss, use an optimizer to backpropagate the weight and bias value adjustments, and validate the model using the test data we withheld.\n",
        "\n",
        "To do this, we'll apply an Adam optimizer to a categorical cross-entropy loss function iteratively over 50 epochs."
      ]
    },
    {
      "cell_type": "code",
      "execution_count": null,
      "metadata": {
        "scrolled": true,
        "tags": [],
        "id": "_EzvW3uu-KB3",
        "outputId": "4f0eb4be-85ba-488d-9133-39bb39465214"
      },
      "outputs": [
        {
          "name": "stderr",
          "output_type": "stream",
          "text": [
            "WARNING:absl:`lr` is deprecated in Keras optimizer, please use `learning_rate` or use the legacy optimizer, e.g.,tf.keras.optimizers.legacy.Adam.\n"
          ]
        },
        {
          "name": "stdout",
          "output_type": "stream",
          "text": [
            "Epoch 1/50\n",
            "96/96 [==============================] - 1s 5ms/step - loss: 2.5573 - accuracy: 0.4284 - val_loss: 0.8031 - val_accuracy: 0.6204\n",
            "Epoch 2/50\n",
            "96/96 [==============================] - 0s 3ms/step - loss: 0.7658 - accuracy: 0.6667 - val_loss: 0.7453 - val_accuracy: 0.7032\n",
            "Epoch 3/50\n",
            "96/96 [==============================] - 0s 3ms/step - loss: 0.7172 - accuracy: 0.6970 - val_loss: 0.6782 - val_accuracy: 0.7348\n",
            "Epoch 4/50\n",
            "96/96 [==============================] - 0s 3ms/step - loss: 0.6419 - accuracy: 0.7179 - val_loss: 0.6123 - val_accuracy: 0.7494\n",
            "Epoch 5/50\n",
            "96/96 [==============================] - 0s 3ms/step - loss: 0.5723 - accuracy: 0.7680 - val_loss: 0.5606 - val_accuracy: 0.7470\n",
            "Epoch 6/50\n",
            "96/96 [==============================] - 0s 3ms/step - loss: 0.5149 - accuracy: 0.7900 - val_loss: 0.4944 - val_accuracy: 0.8005\n",
            "Epoch 7/50\n",
            "96/96 [==============================] - 0s 3ms/step - loss: 0.4613 - accuracy: 0.8328 - val_loss: 0.4436 - val_accuracy: 0.8102\n",
            "Epoch 8/50\n",
            "96/96 [==============================] - 0s 3ms/step - loss: 0.4048 - accuracy: 0.8568 - val_loss: 0.3872 - val_accuracy: 0.8929\n",
            "Epoch 9/50\n",
            "96/96 [==============================] - 0s 3ms/step - loss: 0.3530 - accuracy: 0.8955 - val_loss: 0.3357 - val_accuracy: 0.9124\n",
            "Epoch 10/50\n",
            "96/96 [==============================] - 0s 3ms/step - loss: 0.3105 - accuracy: 0.9143 - val_loss: 0.3080 - val_accuracy: 0.9221\n",
            "Epoch 11/50\n",
            "96/96 [==============================] - 0s 3ms/step - loss: 0.2886 - accuracy: 0.9060 - val_loss: 0.2642 - val_accuracy: 0.9124\n",
            "Epoch 12/50\n",
            "96/96 [==============================] - 0s 3ms/step - loss: 0.2304 - accuracy: 0.9457 - val_loss: 0.2391 - val_accuracy: 0.9513\n",
            "Epoch 13/50\n",
            "96/96 [==============================] - 0s 3ms/step - loss: 0.1971 - accuracy: 0.9582 - val_loss: 0.2001 - val_accuracy: 0.9684\n",
            "Epoch 14/50\n",
            "96/96 [==============================] - 0s 3ms/step - loss: 0.1731 - accuracy: 0.9655 - val_loss: 0.1848 - val_accuracy: 0.9586\n",
            "Epoch 15/50\n",
            "96/96 [==============================] - 0s 3ms/step - loss: 0.1582 - accuracy: 0.9676 - val_loss: 0.1750 - val_accuracy: 0.9440\n",
            "Epoch 16/50\n",
            "96/96 [==============================] - 0s 3ms/step - loss: 0.1426 - accuracy: 0.9770 - val_loss: 0.1421 - val_accuracy: 0.9781\n",
            "Epoch 17/50\n",
            "96/96 [==============================] - 0s 3ms/step - loss: 0.1259 - accuracy: 0.9718 - val_loss: 0.1332 - val_accuracy: 0.9732\n",
            "Epoch 18/50\n",
            "96/96 [==============================] - 0s 3ms/step - loss: 0.1205 - accuracy: 0.9749 - val_loss: 0.1569 - val_accuracy: 0.9538\n",
            "Epoch 19/50\n",
            "96/96 [==============================] - 0s 3ms/step - loss: 0.1137 - accuracy: 0.9728 - val_loss: 0.1382 - val_accuracy: 0.9489\n",
            "Epoch 20/50\n",
            "96/96 [==============================] - 0s 3ms/step - loss: 0.1037 - accuracy: 0.9791 - val_loss: 0.1402 - val_accuracy: 0.9538\n",
            "Epoch 21/50\n",
            "96/96 [==============================] - 0s 2ms/step - loss: 0.0930 - accuracy: 0.9801 - val_loss: 0.1052 - val_accuracy: 0.9684\n",
            "Epoch 22/50\n",
            "96/96 [==============================] - 0s 3ms/step - loss: 0.0850 - accuracy: 0.9822 - val_loss: 0.1224 - val_accuracy: 0.9562\n",
            "Epoch 23/50\n",
            "96/96 [==============================] - 0s 3ms/step - loss: 0.0923 - accuracy: 0.9739 - val_loss: 0.0960 - val_accuracy: 0.9732\n",
            "Epoch 24/50\n",
            "96/96 [==============================] - 0s 3ms/step - loss: 0.0772 - accuracy: 0.9822 - val_loss: 0.0804 - val_accuracy: 0.9830\n",
            "Epoch 25/50\n",
            "96/96 [==============================] - 0s 3ms/step - loss: 0.0737 - accuracy: 0.9854 - val_loss: 0.0795 - val_accuracy: 0.9903\n",
            "Epoch 26/50\n",
            "96/96 [==============================] - 0s 3ms/step - loss: 0.0717 - accuracy: 0.9854 - val_loss: 0.0712 - val_accuracy: 0.9903\n",
            "Epoch 27/50\n",
            "96/96 [==============================] - 0s 3ms/step - loss: 0.0678 - accuracy: 0.9801 - val_loss: 0.0714 - val_accuracy: 0.9854\n",
            "Epoch 28/50\n",
            "96/96 [==============================] - 0s 3ms/step - loss: 0.0658 - accuracy: 0.9812 - val_loss: 0.0749 - val_accuracy: 0.9903\n",
            "Epoch 29/50\n",
            "96/96 [==============================] - 0s 3ms/step - loss: 0.0616 - accuracy: 0.9812 - val_loss: 0.0667 - val_accuracy: 0.9781\n",
            "Epoch 30/50\n",
            "96/96 [==============================] - 0s 3ms/step - loss: 0.0609 - accuracy: 0.9864 - val_loss: 0.0626 - val_accuracy: 0.9854\n",
            "Epoch 31/50\n",
            "96/96 [==============================] - 0s 3ms/step - loss: 0.0695 - accuracy: 0.9749 - val_loss: 0.0620 - val_accuracy: 0.9854\n",
            "Epoch 32/50\n",
            "96/96 [==============================] - 0s 3ms/step - loss: 0.0570 - accuracy: 0.9822 - val_loss: 0.0595 - val_accuracy: 0.9854\n",
            "Epoch 33/50\n",
            "96/96 [==============================] - 0s 3ms/step - loss: 0.0569 - accuracy: 0.9854 - val_loss: 0.0555 - val_accuracy: 0.9903\n",
            "Epoch 34/50\n",
            "96/96 [==============================] - 0s 3ms/step - loss: 0.0562 - accuracy: 0.9854 - val_loss: 0.0996 - val_accuracy: 0.9538\n",
            "Epoch 35/50\n",
            "96/96 [==============================] - 0s 3ms/step - loss: 0.0491 - accuracy: 0.9906 - val_loss: 0.0586 - val_accuracy: 0.9830\n",
            "Epoch 36/50\n",
            "96/96 [==============================] - 0s 3ms/step - loss: 0.0501 - accuracy: 0.9843 - val_loss: 0.0493 - val_accuracy: 0.9903\n",
            "Epoch 37/50\n",
            "96/96 [==============================] - 0s 3ms/step - loss: 0.0490 - accuracy: 0.9854 - val_loss: 0.0482 - val_accuracy: 0.9927\n",
            "Epoch 38/50\n",
            "96/96 [==============================] - 0s 3ms/step - loss: 0.0491 - accuracy: 0.9875 - val_loss: 0.0502 - val_accuracy: 0.9854\n",
            "Epoch 39/50\n",
            "96/96 [==============================] - 0s 2ms/step - loss: 0.0508 - accuracy: 0.9843 - val_loss: 0.0642 - val_accuracy: 0.9732\n",
            "Epoch 40/50\n",
            "96/96 [==============================] - 0s 3ms/step - loss: 0.0518 - accuracy: 0.9812 - val_loss: 0.0553 - val_accuracy: 0.9757\n",
            "Epoch 41/50\n",
            "96/96 [==============================] - 0s 3ms/step - loss: 0.0445 - accuracy: 0.9885 - val_loss: 0.0441 - val_accuracy: 0.9927\n",
            "Epoch 42/50\n",
            "96/96 [==============================] - 0s 3ms/step - loss: 0.0567 - accuracy: 0.9812 - val_loss: 0.0454 - val_accuracy: 0.9927\n",
            "Epoch 43/50\n",
            "96/96 [==============================] - 0s 3ms/step - loss: 0.0486 - accuracy: 0.9833 - val_loss: 0.0445 - val_accuracy: 0.9951\n",
            "Epoch 44/50\n",
            "96/96 [==============================] - 0s 3ms/step - loss: 0.0445 - accuracy: 0.9864 - val_loss: 0.0501 - val_accuracy: 0.9805\n",
            "Epoch 45/50\n",
            "96/96 [==============================] - 0s 3ms/step - loss: 0.0408 - accuracy: 0.9927 - val_loss: 0.0407 - val_accuracy: 0.9951\n",
            "Epoch 46/50\n",
            "96/96 [==============================] - 0s 3ms/step - loss: 0.0385 - accuracy: 0.9916 - val_loss: 0.0386 - val_accuracy: 0.9903\n",
            "Epoch 47/50\n",
            "96/96 [==============================] - 0s 3ms/step - loss: 0.0477 - accuracy: 0.9854 - val_loss: 0.0380 - val_accuracy: 0.9951\n",
            "Epoch 48/50\n",
            "96/96 [==============================] - 0s 3ms/step - loss: 0.0391 - accuracy: 0.9906 - val_loss: 0.0674 - val_accuracy: 0.9708\n",
            "Epoch 49/50\n",
            "96/96 [==============================] - 0s 3ms/step - loss: 0.0372 - accuracy: 0.9916 - val_loss: 0.0554 - val_accuracy: 0.9732\n",
            "Epoch 50/50\n",
            "96/96 [==============================] - 0s 3ms/step - loss: 0.0363 - accuracy: 0.9875 - val_loss: 0.0552 - val_accuracy: 0.9830\n"
          ]
        }
      ],
      "source": [
        "#hyper-parameters for optimizer\n",
        "# learning rate controls the step size at which the optimizer updates the weights during training. Smaller learning rates lead to slower but more precise convergence.\n",
        "learning_rate = 0.001\n",
        "\n",
        "# creating an instance of the Adam optimizer with the specified learning rate. Adam is an optimization algorithm that can adaptively adjust the learning rates of each parameter.\n",
        "opt = optimizers.Adam(lr=learning_rate)\n",
        "\n",
        "# sets up the model for training\n",
        "model.compile(loss='categorical_crossentropy',    #common loss function used for categorical classification problems.\n",
        "              optimizer=opt,\n",
        "              metrics=['accuracy'])\n",
        "\n",
        "# Train the model over 50 epochs using 10-observation batches and using the test holdout dataset for validation\n",
        "num_epochs = 50 # number of times the model will be trained on the training dataset.\n",
        "\n",
        "history = model.fit(x_train, y_train, epochs=num_epochs, batch_size=10, validation_data=(x_test, y_test))\n",
        "#  During each epoch, the training data is divided into batches. The model's weights are updated after each batch."
      ]
    },
    {
      "cell_type": "markdown",
      "metadata": {
        "id": "6AGxm_Py-KB3"
      },
      "source": [
        "While the training process is running, let's try to understand what's happening:\n",
        "\n",
        "1. In each *epoch*, the full set of training data is passed forward through the network. There are four features for each observation, and four corresponding nodes in the input layer - so the features for each observation are passed as a vector of four values to that layer. However, for efficiency, the feature vectors are grouped into batches; so actually a matrix of multiple feature vectors is fed in each time.\n",
        "2. The matrix of feature values is processed by a function that performs a weighted sum using initialized weights and bias values. The result of this function is then processed by the activation function for the input layer to constrain the values passed to the nodes in the next layer.\n",
        "3. The weighted sum and activation functions are repeated in each layer. Note that the functions operate on vectors and matrices rather than individual scalar values. In other words, the forward pass is essentially a series of nested linear algebra functions. This is the reason data scientists prefer to use computers with graphical processing units (GPUs), since these are optimized for matrix and vector calculations.\n",
        "4. In the final layer of the network, the output vectors contain a probability value for each possible class (in this case, classes 0, 1, and 2). This vector is processed by a *loss function* to determine how far the values calculated by the network are from the actual values - so for example, suppose the output for a Gentoo penguin (class 1) observation is \\[0.3, 0.4, 0.3\\]. The correct prediction should be \\[0.0, 1.0, 0.0\\], so the variance between the predicted and actual values (how far away the each predicted value is from what it should be) is \\[0.3, 0.6, 0.3\\]. This variance is aggregated for each batch and maintained as a running aggregate to calculate the overall level of error (*loss*) incurred by the training data for the epoch. The accuracy (proportion of correct predictions based on the highest probability value in the output vector) for the training data is also calculated.\n",
        "5. At the end of each epoch, the validation data is passed through the network, and its loss and accuracy are also calculated. It's important to do this because it enables us to compare the performance of the model using data on which it was not trained, helping us determine if it will generalize well for new data or if it's *overfitted* to the training data.\n",
        "6. After all the data has been passed forward through the network, the output of the loss function for the *training* data (but <u>not</u> the *validation* data) is passed to the opimizer. The precise details of how the optimizer processes the loss vary depending on the specific optimization algorithm being used; but fundamentally you can think of the entire network, from the input layer to the loss function as being one big nested (*composite*) function. The optimizer applies some differential calculus to calculate *partial derivatives* for the function with respect to each weight and bias value that was used in the network. It's possible to do this efficiently for a nested function due to something called the *chain rule*, which enables you to determine the derivative of a composite function from the derivatives of its inner function and outer functions. You don't really need to worry about the details of the math here (the optimizer does it for you), but the end result is that the partial derivatives tell us about the slope (or *gradient*) of the loss function with respect to each weight and bias value - in other words, we can determine whether to increase or decrease the weight and bias values in order to decrease the loss.\n",
        "7. Having determined in which direction to adjust the weights and biases, the optimizer uses the *learning rate* to determine by how much to adjust them; and then works backwards through the network in a process called *backpropagation* to assign new values to the weights and biases in each layer.\n",
        "8. Now the next epoch repeats the whole training, validation, and backpropagation process starting with the revised weights and biases from the previous epoch - which hopefully will result in a lower level of loss.\n",
        "9. The process continues like this for 50 epochs.\n",
        "\n",
        "## Review training and validation loss\n",
        "\n",
        "After training is complete, we can examine the loss metrics we recorded while training and validating the model. We're really looking for two things:\n",
        "* The loss should reduce with each epoch, showing that the model is learning the right weights and biases to predict the correct labels.\n",
        "* The training loss and validation loss should follow a similar trend, showing that the model is not overfitting to the training data.\n",
        "\n",
        "Let's plot the loss metrics and see:"
      ]
    },
    {
      "cell_type": "code",
      "execution_count": null,
      "metadata": {
        "id": "SuS4uj3Q-KB3",
        "outputId": "9621c655-7cf7-42ec-f8a6-7dd375c036c1"
      },
      "outputs": [
        {
          "data": {
            "image/png": "[encoded data removed]",
            "text/plain": [
              "<Figure size 432x288 with 1 Axes>"
            ]
          },
          "metadata": {
            "needs_background": "light"
          },
          "output_type": "display_data"
        }
      ],
      "source": [
        "%matplotlib inline\n",
        "from matplotlib import pyplot as plt\n",
        "\n",
        "epoch_nums = range(1,num_epochs+1)\n",
        "training_loss = history.history[\"loss\"]\n",
        "validation_loss = history.history[\"val_loss\"]\n",
        "plt.plot(epoch_nums, training_loss)\n",
        "plt.plot(epoch_nums, validation_loss)\n",
        "plt.xlabel('epoch')\n",
        "plt.ylabel('loss')\n",
        "plt.legend(['training', 'validation'], loc='upper right')\n",
        "plt.show()"
      ]
    },
    {
      "cell_type": "markdown",
      "metadata": {
        "id": "x3Ah_vD9-KB4"
      },
      "source": [
        "## View the learned weights and biases\n",
        "\n",
        "The trained model consists of the final weights and biases that were determined by the optimizer during training. Based on our network model we should expect the following values for each layer:\n",
        "* Layer 1: There are four input values going to ten output nodes, so there should be 4 x 10 weights and 10 bias values.\n",
        "* Layer 2: There are ten input values going to ten output nodes, so there should be 10 x 10 weights and 10 bias values.\n",
        "* Layer 3: There are ten input values going to three output nodes, so there should be 10 x 3 weights and 3 bias values."
      ]
    },
    {
      "cell_type": "code",
      "execution_count": null,
      "metadata": {
        "tags": [],
        "id": "F5ZKaVW7-KB4",
        "outputId": "3e06af6f-7e09-4d6c-9cce-335cd2077479"
      },
      "outputs": [
        {
          "name": "stdout",
          "output_type": "stream",
          "text": [
            "------------\n",
            "Weights:\n",
            " [[ 4.1978702e-01  4.0236741e-01 -4.0680885e-01  4.2395669e-01\n",
            "  -1.0038626e-02 -6.3419390e-01  5.1103914e-01  3.5646398e-04\n",
            "  -4.4476637e-01 -6.1703521e-01]\n",
            " [ 1.6984181e-01  2.2220558e-01  9.4245094e-01  5.4808968e-01\n",
            "   6.1771256e-01  3.9355707e-01  3.0752689e-02 -2.6826426e-01\n",
            "  -6.4841694e-01  1.1046314e-01]\n",
            " [-2.3376277e-01  4.1983172e-01  4.3140817e-01  9.2510872e-02\n",
            "   1.9492587e-01 -6.1877286e-01 -3.5947356e-02 -4.8096558e-01\n",
            "  -2.8983417e-01  2.0932651e-01]\n",
            " [ 1.3272114e-01 -2.3128117e-02  6.4098108e-01 -5.9439504e-01\n",
            "  -2.6536301e-01  1.6976833e-02  5.4591000e-01  6.6459644e-01\n",
            "  -2.4975038e-01 -2.9843068e-01]] \n",
            "Biases:\n",
            " [-0.05678893 -0.2472334   0.34301057 -0.2662973   0.26753443  0.\n",
            "  0.00176052 -0.05321265  0.          0.        ]\n",
            "------------\n",
            "Weights:\n",
            " [[ 0.40231436 -0.48107725 -0.00859208  0.09712187  0.47197628 -0.28519902\n",
            "  -0.17297494 -0.08776391  0.15783346  0.34376204]\n",
            " [-0.3887232  -0.2927434   0.43391937  0.4922145  -0.28679147  0.09540665\n",
            "  -0.02330026  0.09222513 -0.40294522  0.31018972]\n",
            " [ 0.36793083 -0.3372854  -0.5959056   0.18934901 -0.3037541   0.14008915\n",
            "   0.05283378 -0.11951187 -0.5346325  -0.34615397]\n",
            " [ 0.06212467 -0.06356961  0.2598552   0.72757167 -0.5395267   0.34729493\n",
            "  -0.8335807   0.39452767  0.09134382 -0.07294944]\n",
            " [-0.31812906  0.06510907 -0.76465666  0.87080234  0.02068381  0.3114307\n",
            "  -0.18959631 -0.47244048  0.52361774 -0.40083635]\n",
            " [ 0.2702216  -0.34521532 -0.37991694 -0.38114655 -0.43334487  0.36259818\n",
            "  -0.1660563  -0.01323032 -0.13423926  0.26972443]\n",
            " [-0.47544384  0.42401308  0.21978395 -0.0564151   0.20817168 -0.338786\n",
            "   0.5449464  -0.52787423 -0.14518115 -0.28819546]\n",
            " [-0.02755183 -0.28036454  0.32714653 -0.23529816 -0.33942506 -0.5199297\n",
            "   0.5620789   0.051615    0.35044783  0.13703316]\n",
            " [ 0.03963375  0.27951992 -0.21568337 -0.431507   -0.3278172  -0.08728439\n",
            "   0.15747309 -0.45480284 -0.47897297 -0.09450337]\n",
            " [-0.3825224  -0.3376431   0.18280584 -0.22572878 -0.4226383  -0.1704213\n",
            "  -0.49211422 -0.29073185 -0.1309427  -0.05000681]] \n",
            "Biases:\n",
            " [ 0.          0.         -0.30679476 -0.06533462 -0.0555192   0.\n",
            "  0.24064057  0.          0.          0.        ]\n",
            "------------\n",
            "Weights:\n",
            " [[-0.25774783 -0.12833601  0.5501298 ]\n",
            " [-0.3595009  -0.00541687  0.47946608]\n",
            " [-1.6317877   0.53784823  0.54527223]\n",
            " [ 0.16875333 -0.40336066  0.14738585]\n",
            " [ 0.31635028  0.18340826  0.29089788]\n",
            " [-0.08837467  0.47777927 -0.06832302]\n",
            " [ 0.10667016  0.2835651  -0.23744081]\n",
            " [ 0.33792555  0.50867224 -0.5199901 ]\n",
            " [ 0.01203901 -0.46840882 -0.23398632]\n",
            " [-0.27768922 -0.489186   -0.13698196]] \n",
            "Biases:\n",
            " [ 0.33758608 -0.00708153 -0.27632383]\n"
          ]
        }
      ],
      "source": [
        "for layer in model.layers:\n",
        "    weights = layer.get_weights()[0]\n",
        "    biases = layer.get_weights()[1]\n",
        "    print('------------\\nWeights:\\n',weights,'\\nBiases:\\n', biases)\n",
        "\n"
      ]
    },
    {
      "cell_type": "code",
      "execution_count": null,
      "metadata": {
        "id": "6C_exMdb-KB4",
        "outputId": "476a945c-534b-4793-fe6d-7374d31d5acc"
      },
      "outputs": [
        {
          "data": {
            "text/plain": [
              "(10, 3)"
            ]
          },
          "execution_count": 19,
          "metadata": {},
          "output_type": "execute_result"
        }
      ],
      "source": [
        "weights.shape"
      ]
    },
    {
      "cell_type": "markdown",
      "metadata": {
        "id": "wMiT-6VU-KB4"
      },
      "source": [
        "## Evaluate model performance\n",
        "\n",
        "So, is the model any good? The raw accuracy reported from the validation data would seem to indicate that it predicts pretty well; but it's typically useful to dig a little deeper and compare the predictions for each possible class. A common way to visualize the performance of a classification model is to create a *confusion matrix* that shows a crosstab of correct and incorrect predictions for each class."
      ]
    },
    {
      "cell_type": "code",
      "execution_count": null,
      "metadata": {
        "id": "E0QEu4gP-KB5",
        "outputId": "1795fddc-91de-4ee8-939a-7b7afd444cc5"
      },
      "outputs": [
        {
          "name": "stdout",
          "output_type": "stream",
          "text": [
            "13/13 [==============================] - 0s 2ms/step\n"
          ]
        },
        {
          "data": {
            "image/png": "[encoded data removed]",
            "text/plain": [
              "<Figure size 432x288 with 2 Axes>"
            ]
          },
          "metadata": {
            "needs_background": "light"
          },
          "output_type": "display_data"
        }
      ],
      "source": [
        "# Tensorflow doesn't have a built-in confusion matrix metric, so we'll use SciKit-Learn\n",
        "import numpy as np\n",
        "from sklearn.metrics import confusion_matrix\n",
        "import matplotlib.pyplot as plt\n",
        "%matplotlib inline\n",
        "# a magic command used in Jupyter notebooks. It allows the plots generated by Matplotlib to be displayed directly in the notebook.\n",
        "\n",
        "\n",
        "\n",
        "#The model predicts class probabilities for the test set\n",
        "class_probabilities = model.predict(x_test)\n",
        "\n",
        "# These probabilities are converted into actual class predictions.\n",
        "predictions = np.argmax(class_probabilities, axis=1)\n",
        "\n",
        "# True labels are extracted from the test set.\n",
        "true_labels = np.argmax(y_test, axis=1)\n",
        "\n",
        "\n",
        "\n",
        "# Plot the confusion matrix\n",
        "cm = confusion_matrix(true_labels, predictions)\n",
        "plt.imshow(cm, interpolation=\"nearest\", cmap=plt.cm.Blues)\n",
        "plt.colorbar()\n",
        "tick_marks = np.arange(len(penguin_classes))\n",
        "plt.xticks(tick_marks, penguin_classes, rotation=85)\n",
        "plt.yticks(tick_marks, penguin_classes)\n",
        "plt.xlabel(\"Predicted Species\")\n",
        "plt.ylabel(\"Actual Species\")\n",
        "plt.show()"
      ]
    },
    {
      "cell_type": "markdown",
      "metadata": {
        "id": "pxavUxc_-KB5"
      },
      "source": [
        "The confusion matrix should show a strong diagonal line indicating that there are more correct than incorrect predictions for each class.\n",
        "\n",
        "## Save the trained model\n",
        "Now that we have a model we believe is reasonably accurate, we can save its trained weights for use later."
      ]
    },
    {
      "cell_type": "code",
      "execution_count": null,
      "metadata": {
        "id": "MbB6Lg0A-KB6"
      },
      "outputs": [],
      "source": [
        "# Save the trained model\n",
        "modelFileName = 'models/penguin-classifier.h5'\n",
        "model.save(modelFileName)\n",
        "del model  # deletes the existing model variable\n",
        "print('model saved as', modelFileName)"
      ]
    },
    {
      "cell_type": "markdown",
      "metadata": {
        "id": "M3Ahxq_z-KB6"
      },
      "source": [
        "## Use the trained model\n",
        "\n",
        "When we have a new penguin observation, we can use the model to predict the species."
      ]
    },
    {
      "cell_type": "code",
      "execution_count": null,
      "metadata": {
        "tags": [],
        "id": "CH0_gfeM-KB6"
      },
      "outputs": [],
      "source": [
        "# Load the saved model\n",
        "model = models.load_model(modelFileName)\n",
        "\n",
        "# CReate a new array of features\n",
        "x_new = np.array([[50.4,15.3,20,50]])\n",
        "print ('New sample: {}'.format(x_new))\n",
        "\n",
        "# Use the model to predict the class\n",
        "class_probabilities = model.predict(x_new)\n",
        "predictions = np.argmax(class_probabilities, axis=1)\n",
        "\n",
        "print(penguin_classes[predictions[0]])"
      ]
    }
  ],
  "metadata": {
    "kernelspec": {
      "display_name": "Python 3 (ipykernel)",
      "language": "python",
      "name": "python3"
    },
    "language_info": {
      "codemirror_mode": {
        "name": "ipython",
        "version": 3
      },
      "file_extension": ".py",
      "mimetype": "text/x-python",
      "name": "python",
      "nbconvert_exporter": "python",
      "pygments_lexer": "ipython3",
      "version": "3.8.12"
    },
    "colab": {
      "provenance": [],
      "include_colab_link": true
    }
  },
  "nbformat": 4,
  "nbformat_minor": 0
}