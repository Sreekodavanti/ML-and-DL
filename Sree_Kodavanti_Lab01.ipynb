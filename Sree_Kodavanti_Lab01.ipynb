{
  "nbformat": 4,
  "nbformat_minor": 0,
  "metadata": {
    "colab": {
      "provenance": []
    },
    "kernelspec": {
      "name": "python3",
      "display_name": "Python 3"
    },
    "language_info": {
      "name": "python"
    }
  },
  "cells": [
    {
      "cell_type": "code",
      "source": [
        "import random\n",
        "\n",
        "def show_learning(w):\n",
        "    print('w0 =', '%5.2f' % w[0], ', w1 =', '%5.2f' % w[1],\n",
        "          ', w2 =', '%5.2f' % w[2])\n",
        "\n",
        "# Define variables needed to control training process.\n",
        "random.seed(7) # To make repeatable\n",
        "LEARNING_RATE = 0.1\n",
        "index_list = [0, 1, 2, 3] # Used to randomize order\n",
        "\n",
        "# First element in vector x must be 1.\n",
        "# Length of w and x must be n+1 for neuron with n inputs.\n",
        "def compute_output(w, x):\n",
        "    z = 0.0\n",
        "    for i in range(len(w)):\n",
        "        z += x[i] * w[i] # Compute sum of weighted inputs\n",
        "    if z < 0: # Apply sign function\n",
        "        return -1\n",
        "    else:\n",
        "        return 1"
      ],
      "metadata": {
        "id": "JMCtUWpIndyQ"
      },
      "execution_count": 23,
      "outputs": []
    },
    {
      "cell_type": "code",
      "source": [
        "# Define training for AND gate.\n",
        "x_train_and = [(1.0, 0.0, 0.0), (1.0, 0.0, 1.0),\n",
        "    (1.0, 1.0, 0.0), (1.0, 1.0, 1.0)] # Inputs\n",
        "y_train_and = [-1.0, -1.0, -1.0, 1.0] # Output (ground truth)\n",
        "\n",
        "# Define perceptron weights for AND gate.\n",
        "w_and = [0.2, -0.6, 0.25] # Initialize to some \"random\" numbers\n",
        "\n",
        "# Print initial weights for AND gate.\n",
        "print(\"Initial weights for AND gate:\")\n",
        "show_learning(w_and)\n",
        "\n",
        "# Perceptron training loop for AND gate.\n",
        "all_correct_and = False\n",
        "print(\"\\nTraining AND gate...\")\n",
        "while not all_correct_and:\n",
        "    all_correct_and = True\n",
        "    random.shuffle(index_list) # Randomize order\n",
        "    for i in index_list:\n",
        "        x = x_train_and[i]\n",
        "        y = y_train_and[i]\n",
        "        p_out = compute_output(w_and, x) # Perceptron function\n",
        "        if y != p_out: # Update weights when wrong\n",
        "            for j in range(0, len(w_and)):\n",
        "                w_and[j] += (y * LEARNING_RATE * x[j])\n",
        "            all_correct_and = False\n",
        "\n",
        "            show_learning(w_and) # Show updated weights"
      ],
      "metadata": {
        "colab": {
          "base_uri": "https://localhost:8080/"
        },
        "id": "cPwIlMogpUtb",
        "outputId": "e835c1cc-dcde-4015-ba16-dcfa6642dc28"
      },
      "execution_count": 21,
      "outputs": [
        {
          "output_type": "stream",
          "name": "stdout",
          "text": [
            "Initial weights for AND gate:\n",
            "w0 =  0.20 , w1 = -0.60 , w2 =  0.25\n",
            "\n",
            "Training AND gate...\n",
            "w0 =  0.10 , w1 = -0.60 , w2 =  0.15\n",
            "w0 =  0.00 , w1 = -0.60 , w2 =  0.15\n",
            "w0 =  0.10 , w1 = -0.50 , w2 =  0.25\n",
            "w0 =  0.20 , w1 = -0.40 , w2 =  0.35\n",
            "w0 =  0.10 , w1 = -0.40 , w2 =  0.25\n",
            "w0 =  0.00 , w1 = -0.40 , w2 =  0.25\n",
            "w0 =  0.10 , w1 = -0.30 , w2 =  0.35\n",
            "w0 =  0.00 , w1 = -0.30 , w2 =  0.25\n",
            "w0 = -0.10 , w1 = -0.30 , w2 =  0.25\n",
            "w0 =  0.00 , w1 = -0.20 , w2 =  0.35\n",
            "w0 = -0.10 , w1 = -0.20 , w2 =  0.25\n",
            "w0 =  0.00 , w1 = -0.10 , w2 =  0.35\n",
            "w0 = -0.10 , w1 = -0.10 , w2 =  0.25\n",
            "w0 = -0.20 , w1 = -0.10 , w2 =  0.15\n",
            "w0 = -0.10 , w1 = -0.00 , w2 =  0.25\n",
            "w0 = -0.20 , w1 = -0.00 , w2 =  0.15\n",
            "w0 = -0.10 , w1 =  0.10 , w2 =  0.25\n",
            "w0 = -0.20 , w1 =  0.10 , w2 =  0.15\n"
          ]
        }
      ]
    },
    {
      "cell_type": "code",
      "source": [
        "# Testing the AND gate\n",
        "print(\"\\nNow lets check the AND gate:\")\n",
        "for x in x_train_and:\n",
        "    output = compute_output(w_and, x)\n",
        "    print(f\"{x[1:]} => {output}\")"
      ],
      "metadata": {
        "colab": {
          "base_uri": "https://localhost:8080/"
        },
        "id": "b81IVcFxqKUa",
        "outputId": "74412c32-b037-47c5-da43-3431d52a0f5c"
      },
      "execution_count": 27,
      "outputs": [
        {
          "output_type": "stream",
          "name": "stdout",
          "text": [
            "\n",
            "Now lets check the AND gate:\n",
            "(0.0, 0.0) => -1\n",
            "(0.0, 1.0) => -1\n",
            "(1.0, 0.0) => -1\n",
            "(1.0, 1.0) => 1\n"
          ]
        }
      ]
    },
    {
      "cell_type": "code",
      "source": [
        "# Define training examples for OR gate.\n",
        "x_train_or = [(1.0, 0.0, 0.0), (1.0, 0.0, 1.0),\n",
        "    (1.0, 1.0, 0.0), (1.0, 1.0, 1.0)] # Inputs\n",
        "y_train_or = [-1.0, 1.0, 1.0, 1.0] # Output (ground truth)\n",
        "\n",
        "# Define perceptron weights for OR gate.\n",
        "w_or = [0.2, -0.6, 0.25] # Initialize to some \"random\" numbers\n",
        "\n",
        "# Print initial weights for OR gate.\n",
        "print(\"\\nInitial weights for OR gate:\")\n",
        "show_learning(w_or)\n",
        "\n",
        "# Perceptron training loop for OR gate.\n",
        "all_correct_or = False\n",
        "print(\"\\nTraining OR gate...\")\n",
        "while not all_correct_or:\n",
        "    all_correct_or = True\n",
        "    random.shuffle(index_list) # Randomize order\n",
        "    for i in index_list:\n",
        "        x = x_train_or[i]\n",
        "        y = y_train_or[i]\n",
        "        p_out = compute_output(w_or, x) # Perceptron function\n",
        "        if y != p_out: # Update weights when wrong\n",
        "            for j in range(0, len(w_or)):\n",
        "                w_or[j] += (y * LEARNING_RATE * x[j])\n",
        "            all_correct_or = False\n",
        "            show_learning(w_or) # Show updated weights"
      ],
      "metadata": {
        "colab": {
          "base_uri": "https://localhost:8080/"
        },
        "id": "E6ZToDKppoL1",
        "outputId": "c1a72fa4-4d69-4bef-8512-80bcd61d9659"
      },
      "execution_count": 22,
      "outputs": [
        {
          "output_type": "stream",
          "name": "stdout",
          "text": [
            "\n",
            "Initial weights for OR gate:\n",
            "w0 =  0.20 , w1 = -0.60 , w2 =  0.25\n",
            "\n",
            "Training OR gate...\n",
            "w0 =  0.10 , w1 = -0.60 , w2 =  0.25\n",
            "w0 =  0.20 , w1 = -0.50 , w2 =  0.25\n",
            "w0 =  0.30 , w1 = -0.40 , w2 =  0.35\n",
            "w0 =  0.20 , w1 = -0.40 , w2 =  0.35\n",
            "w0 =  0.30 , w1 = -0.30 , w2 =  0.35\n",
            "w0 =  0.20 , w1 = -0.30 , w2 =  0.35\n",
            "w0 =  0.30 , w1 = -0.20 , w2 =  0.35\n",
            "w0 =  0.20 , w1 = -0.20 , w2 =  0.35\n",
            "w0 =  0.10 , w1 = -0.20 , w2 =  0.35\n",
            "w0 =  0.20 , w1 = -0.10 , w2 =  0.35\n",
            "w0 =  0.10 , w1 = -0.10 , w2 =  0.35\n",
            "w0 =  0.00 , w1 = -0.10 , w2 =  0.35\n",
            "w0 =  0.10 , w1 = -0.00 , w2 =  0.35\n",
            "w0 =  0.00 , w1 = -0.00 , w2 =  0.35\n",
            "w0 = -0.10 , w1 = -0.00 , w2 =  0.35\n",
            "w0 =  0.00 , w1 =  0.10 , w2 =  0.35\n",
            "w0 = -0.10 , w1 =  0.10 , w2 =  0.35\n"
          ]
        }
      ]
    },
    {
      "cell_type": "code",
      "source": [
        "# Testing the OR gate\n",
        "print(\"\\n Now, To check the OR gate:\")\n",
        "for x in x_train_or:\n",
        "    output = compute_output(w_or, x)\n",
        "    print(f\"{x[1:]} => {output}\")\n"
      ],
      "metadata": {
        "colab": {
          "base_uri": "https://localhost:8080/"
        },
        "id": "yXzVZckXqM6C",
        "outputId": "5e479235-54c4-425d-98ac-67512b295805"
      },
      "execution_count": 26,
      "outputs": [
        {
          "output_type": "stream",
          "name": "stdout",
          "text": [
            "\n",
            " Now, To check the OR gate:\n",
            "(0.0, 0.0) => -1\n",
            "(0.0, 1.0) => 1\n",
            "(1.0, 0.0) => 1\n",
            "(1.0, 1.0) => 1\n"
          ]
        }
      ]
    },
    {
      "cell_type": "code",
      "source": [],
      "metadata": {
        "id": "JhGbdW_HqzOU"
      },
      "execution_count": null,
      "outputs": []
    }
  ]
}