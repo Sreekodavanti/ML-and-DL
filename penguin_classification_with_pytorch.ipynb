{
  "nbformat": 4,
  "nbformat_minor": 0,
  "metadata": {
    "colab": {
      "provenance": [],
      "authorship_tag": "ABX9TyMAaz897Nsg6DuKg9e81y4o",
      "include_colab_link": true
    },
    "kernelspec": {
      "name": "python3",
      "display_name": "Python 3"
    },
    "language_info": {
      "name": "python"
    }
  },
  "cells": [
    {
      "cell_type": "markdown",
      "metadata": {
        "id": "view-in-github",
        "colab_type": "text"
      },
      "source": [
        "<a href=\"https://colab.research.google.com/github/Sreekodavanti/ML-and-DL/blob/main/penguin_classification_with_pytorch.ipynb\" target=\"_parent\"><img src=\"https://colab.research.google.com/assets/colab-badge.svg\" alt=\"Open In Colab\"/></a>"
      ]
    },
    {
      "cell_type": "code",
      "source": [
        "!pip install torch torchvision"
      ],
      "metadata": {
        "colab": {
          "base_uri": "https://localhost:8080/"
        },
        "id": "8dRFuKdRqtQQ",
        "outputId": "fbf3251e-f6bd-441a-c313-a256e35375cd"
      },
      "execution_count": null,
      "outputs": [
        {
          "output_type": "stream",
          "name": "stdout",
          "text": [
            "Requirement already satisfied: torch in /usr/local/lib/python3.10/dist-packages (2.1.0+cu121)\n",
            "Requirement already satisfied: torchvision in /usr/local/lib/python3.10/dist-packages (0.16.0+cu121)\n",
            "Requirement already satisfied: filelock in /usr/local/lib/python3.10/dist-packages (from torch) (3.13.1)\n",
            "Requirement already satisfied: typing-extensions in /usr/local/lib/python3.10/dist-packages (from torch) (4.10.0)\n",
            "Requirement already satisfied: sympy in /usr/local/lib/python3.10/dist-packages (from torch) (1.12)\n",
            "Requirement already satisfied: networkx in /usr/local/lib/python3.10/dist-packages (from torch) (3.2.1)\n",
            "Requirement already satisfied: jinja2 in /usr/local/lib/python3.10/dist-packages (from torch) (3.1.3)\n",
            "Requirement already satisfied: fsspec in /usr/local/lib/python3.10/dist-packages (from torch) (2023.6.0)\n",
            "Requirement already satisfied: triton==2.1.0 in /usr/local/lib/python3.10/dist-packages (from torch) (2.1.0)\n",
            "Requirement already satisfied: numpy in /usr/local/lib/python3.10/dist-packages (from torchvision) (1.25.2)\n",
            "Requirement already satisfied: requests in /usr/local/lib/python3.10/dist-packages (from torchvision) (2.31.0)\n",
            "Requirement already satisfied: pillow!=8.3.*,>=5.3.0 in /usr/local/lib/python3.10/dist-packages (from torchvision) (9.4.0)\n",
            "Requirement already satisfied: MarkupSafe>=2.0 in /usr/local/lib/python3.10/dist-packages (from jinja2->torch) (2.1.5)\n",
            "Requirement already satisfied: charset-normalizer<4,>=2 in /usr/local/lib/python3.10/dist-packages (from requests->torchvision) (3.3.2)\n",
            "Requirement already satisfied: idna<4,>=2.5 in /usr/local/lib/python3.10/dist-packages (from requests->torchvision) (3.6)\n",
            "Requirement already satisfied: urllib3<3,>=1.21.1 in /usr/local/lib/python3.10/dist-packages (from requests->torchvision) (2.0.7)\n",
            "Requirement already satisfied: certifi>=2017.4.17 in /usr/local/lib/python3.10/dist-packages (from requests->torchvision) (2024.2.2)\n",
            "Requirement already satisfied: mpmath>=0.19 in /usr/local/lib/python3.10/dist-packages (from sympy->torch) (1.3.0)\n"
          ]
        }
      ]
    },
    {
      "cell_type": "code",
      "execution_count": null,
      "metadata": {
        "id": "--1p6hxfi_6a"
      },
      "outputs": [],
      "source": [
        "import pandas as pd\n",
        "from sklearn.preprocessing import StandardScaler\n",
        "from sklearn.model_selection import train_test_split\n",
        "import torch\n",
        "import torch.nn as nn\n",
        "import matplotlib.pyplot as plt\n",
        "import torch.optim as optim\n",
        "from torch.utils.data import DataLoader, TensorDataset\n",
        "from imblearn.over_sampling import SMOTE\n"
      ]
    },
    {
      "cell_type": "code",
      "source": [
        "#import dataset\n",
        "df = pd.read_csv(\"/content/wine.csv\")"
      ],
      "metadata": {
        "id": "Ng1tmoxuqpJG"
      },
      "execution_count": null,
      "outputs": []
    },
    {
      "cell_type": "code",
      "source": [
        "df.info()"
      ],
      "metadata": {
        "colab": {
          "base_uri": "https://localhost:8080/"
        },
        "id": "3svklxWZjP-h",
        "outputId": "e5f5e8be-42c8-464e-8c51-901f33cd7580"
      },
      "execution_count": null,
      "outputs": [
        {
          "output_type": "stream",
          "name": "stdout",
          "text": [
            "<class 'pandas.core.frame.DataFrame'>\n",
            "RangeIndex: 178 entries, 0 to 177\n",
            "Data columns (total 14 columns):\n",
            " #   Column                      Non-Null Count  Dtype  \n",
            "---  ------                      --------------  -----  \n",
            " 0   Alcohol                     178 non-null    float64\n",
            " 1   Malic_acid                  178 non-null    float64\n",
            " 2   Ash                         178 non-null    float64\n",
            " 3   Alcalinity                  178 non-null    float64\n",
            " 4   Magnesium                   178 non-null    int64  \n",
            " 5   Phenols                     178 non-null    float64\n",
            " 6   Flavanoids                  178 non-null    float64\n",
            " 7   Nonflavanoids               178 non-null    float64\n",
            " 8   Proanthocyanins             178 non-null    float64\n",
            " 9   Color_intensity             178 non-null    float64\n",
            " 10  Hue                         178 non-null    float64\n",
            " 11  OD280_315_of_diluted_wines  178 non-null    float64\n",
            " 12  Proline                     178 non-null    int64  \n",
            " 13  WineVariety                 178 non-null    int64  \n",
            "dtypes: float64(11), int64(3)\n",
            "memory usage: 19.6 KB\n"
          ]
        }
      ]
    },
    {
      "cell_type": "code",
      "source": [
        "df.isnull().sum()"
      ],
      "metadata": {
        "colab": {
          "base_uri": "https://localhost:8080/"
        },
        "id": "_bjRwnWOjUxv",
        "outputId": "97a81418-ebf7-425e-85c1-8cca74c23b84"
      },
      "execution_count": null,
      "outputs": [
        {
          "output_type": "execute_result",
          "data": {
            "text/plain": [
              "Alcohol                       0\n",
              "Malic_acid                    0\n",
              "Ash                           0\n",
              "Alcalinity                    0\n",
              "Magnesium                     0\n",
              "Phenols                       0\n",
              "Flavanoids                    0\n",
              "Nonflavanoids                 0\n",
              "Proanthocyanins               0\n",
              "Color_intensity               0\n",
              "Hue                           0\n",
              "OD280_315_of_diluted_wines    0\n",
              "Proline                       0\n",
              "WineVariety                   0\n",
              "dtype: int64"
            ]
          },
          "metadata": {},
          "execution_count": 7
        }
      ]
    },
    {
      "cell_type": "code",
      "source": [
        "df.isnull().sum()"
      ],
      "metadata": {
        "colab": {
          "base_uri": "https://localhost:8080/"
        },
        "id": "wvigcSKunKbu",
        "outputId": "fde305f1-4430-4853-d4ed-f6b25bfaf993"
      },
      "execution_count": null,
      "outputs": [
        {
          "output_type": "execute_result",
          "data": {
            "text/plain": [
              "CulmenLength     0\n",
              "CulmenDepth      0\n",
              "FlipperLength    0\n",
              "BodyMass         0\n",
              "Species          0\n",
              "dtype: int64"
            ]
          },
          "metadata": {},
          "execution_count": 79
        }
      ]
    },
    {
      "cell_type": "code",
      "source": [
        "#scaling since the data model has less features\n",
        "scaler = StandardScaler()\n",
        "scaled_features = scaler.fit_transform(df[['FlipperLength', 'BodyMass']])\n",
        "df.loc[:, ['FlipperLength', 'BodyMass']] = scaled_features\n",
        "\n",
        "\n",
        "#since species is the dependent variable for our datset\n",
        "features = df[['CulmenLength', 'CulmenDepth', 'FlipperLength', 'BodyMass']].values\n",
        "labels = df['Species'].values\n",
        "\n",
        "# Splitting the data into training and testing sets with 70% training and 30 testing\n",
        "X_train, X_test, y_train, y_test = train_test_split(features, labels, test_size=0.3, random_state=42)\n",
        "\n"
      ],
      "metadata": {
        "id": "vBysVicYm785"
      },
      "execution_count": null,
      "outputs": []
    },
    {
      "cell_type": "code",
      "source": [
        "#since species is the dependent variable for our datset\n",
        "features = df[['CulmenLength', 'CulmenDepth', 'FlipperLength', 'BodyMass']].values\n",
        "labels = df['Species'].values\n",
        "\n",
        "# Splitting the data into training and testing sets with 70% training and 30 testing\n",
        "X_train, X_test, y_train, y_test = train_test_split(features, labels, test_size=0.3, random_state=42)\n",
        "\n"
      ],
      "metadata": {
        "id": "zkrBjwz9n6IQ"
      },
      "execution_count": null,
      "outputs": []
    },
    {
      "cell_type": "code",
      "source": [
        "print ('Training Set: %d, Test Set: %d \\n' % (len(X_train), len(X_test)))\n",
        "print(f\"Sample of features and labels: \\n Features = {features},\\n Label = {labels}\")"
      ],
      "metadata": {
        "colab": {
          "base_uri": "https://localhost:8080/"
        },
        "id": "byk9dH-dre50",
        "outputId": "1e5f2255-5922-4d03-c4f0-6cae2a6ceed9"
      },
      "execution_count": null,
      "outputs": [
        {
          "output_type": "stream",
          "name": "stdout",
          "text": [
            "Training Set: 240, Test Set: 104 \n",
            "\n",
            "Sample of features and labels: \n",
            " Features = [[39.1        18.7        -1.42248782 -0.56578921]\n",
            " [39.5        17.4        -1.06535169 -0.50316788]\n",
            " [40.3        18.         -0.42250666 -1.19200251]\n",
            " ...\n",
            " [49.6        18.2        -0.56536111 -0.53447855]\n",
            " [50.8        19.          0.64890172 -0.1274399 ]\n",
            " [50.2        18.7        -0.20822498 -0.53447855]],\n",
            " Label = [0 0 0 0 0 0 0 0 0 0 0 0 0 0 0 0 0 0 0 0 0 0 0 0 0 0 0 0 0 0 0 0 0 0 0 0 0\n",
            " 0 0 0 0 0 0 0 0 0 0 0 0 0 0 0 0 0 0 0 0 0 0 0 0 0 0 0 0 0 0 0 0 0 0 0 0 0\n",
            " 0 0 0 0 0 0 0 0 0 0 0 0 0 0 0 0 0 0 0 0 0 0 0 0 0 0 0 0 0 0 0 0 0 0 0 0 0\n",
            " 0 0 0 0 0 0 0 0 0 0 0 0 0 0 0 0 0 0 0 0 0 0 0 0 0 0 0 0 0 0 0 0 0 0 0 0 0\n",
            " 0 0 0 0 1 1 1 1 1 1 1 1 1 1 1 1 1 1 1 1 1 1 1 1 1 1 1 1 1 1 1 1 1 1 1 1 1\n",
            " 1 1 1 1 1 1 1 1 1 1 1 1 1 1 1 1 1 1 1 1 1 1 1 1 1 1 1 1 1 1 1 1 1 1 1 1 1\n",
            " 1 1 1 1 1 1 1 1 1 1 1 1 1 1 1 1 1 1 1 1 1 1 1 1 1 1 1 1 1 1 1 1 1 1 1 1 1\n",
            " 1 1 1 1 1 1 1 1 1 1 1 1 1 1 1 1 1 2 2 2 2 2 2 2 2 2 2 2 2 2 2 2 2 2 2 2 2\n",
            " 2 2 2 2 2 2 2 2 2 2 2 2 2 2 2 2 2 2 2 2 2 2 2 2 2 2 2 2 2 2 2 2 2 2 2 2 2\n",
            " 2 2 2 2 2 2 2 2 2 2 2]\n"
          ]
        }
      ]
    },
    {
      "cell_type": "code",
      "source": [
        "smote = SMOTE(random_state=42)\n",
        "X_train_oversampled, y_train_oversampled = smote.fit_resample(X_train, y_train)"
      ],
      "metadata": {
        "id": "gA86Wrg9o5Lg"
      },
      "execution_count": null,
      "outputs": []
    },
    {
      "cell_type": "code",
      "source": [
        "# first 15 training features and labels\n",
        "for i in range(15):\n",
        "    print(f\"Features: {X_train_oversampled[i]}, Label: {y_train_oversampled[i]}\")\n"
      ],
      "metadata": {
        "colab": {
          "base_uri": "https://localhost:8080/"
        },
        "id": "9erlWt1KsU1A",
        "outputId": "0d557a97-45c3-44e2-93ca-1ec0c8f0e3d6"
      },
      "execution_count": null,
      "outputs": [
        {
          "output_type": "stream",
          "name": "stdout",
          "text": [
            "Features: [37.2        18.1        -1.63676949 -0.37792522], Label: 0\n",
            "Features: [49.5        16.1         1.64888288  1.81382133], Label: 1\n",
            "Features: [50.         19.5        -0.35107943 -0.37792522], Label: 2\n",
            "Features: [48.4        14.6         0.8631834   2.06430665], Label: 1\n",
            "Features: [48.4        14.4         0.14891115  0.53008407], Label: 1\n",
            "Features: [38.8        17.6        -0.70821556 -1.16069185], Label: 0\n",
            "Features: [46.1        18.2        -1.63676949 -1.19200251], Label: 2\n",
            "Features: [37.6        19.1        -0.49393388 -0.56578921], Label: 0\n",
            "Features: [45.6        20.3        -0.70821556  0.4987734 ], Label: 0\n",
            "Features: [43.6        13.9         1.1488923   0.87450138], Label: 1\n",
            "Features: [36.6        17.8        -1.13677891 -0.62841054], Label: 0\n",
            "Features: [38.9        17.8        -1.42248782 -0.72234254], Label: 0\n",
            "Features: [45.5        14.5         0.79175618  0.68663739], Label: 1\n",
            "Features: [47.7        15.          1.07746508  0.68663739], Label: 1\n",
            "Features: [39.6        18.1        -1.06535169  0.31090941], Label: 0\n"
          ]
        }
      ]
    },
    {
      "cell_type": "code",
      "source": [
        "# Converting the oversampled data to PyTorch tensors\n",
        "X_train_tensor = torch.tensor(X_train_oversampled, dtype=torch.float32)\n",
        "y_train_tensor = torch.tensor(y_train_oversampled, dtype=torch.long)\n",
        "X_test_tensor = torch.tensor(X_test, dtype=torch.float32)\n",
        "y_test_tensor = torch.tensor(y_test, dtype=torch.long)"
      ],
      "metadata": {
        "id": "C6K6tjTJq9uh"
      },
      "execution_count": null,
      "outputs": []
    },
    {
      "cell_type": "code",
      "source": [
        "# As mentioned in the challenge, we will create a dataloader for our training and testing datasets.\n",
        "train_dataset = TensorDataset(X_train_tensor, y_train_tensor)\n",
        "test_dataset = TensorDataset(X_test_tensor, y_test_tensor)\n"
      ],
      "metadata": {
        "id": "ijPkMbTdrBrT"
      },
      "execution_count": null,
      "outputs": []
    },
    {
      "cell_type": "code",
      "source": [
        "train_loader = DataLoader(train_dataset, batch_size=16, shuffle=True)\n",
        "test_loader = DataLoader(test_dataset, batch_size=16, shuffle=False)"
      ],
      "metadata": {
        "id": "SDQrs_PKrb5p"
      },
      "execution_count": null,
      "outputs": []
    },
    {
      "cell_type": "code",
      "source": [
        "# Defining the neural network model\n",
        "class PenguinClassifier(nn.Module):\n",
        "    def __init__(self, input_size, hidden_size, num_classes):\n",
        "        super(PenguinClassifier, self).__init__()\n",
        "        self.fc1 = nn.Linear(input_size, hidden_size)\n",
        "        self.relu = nn.ReLU()\n",
        "        self.fc2 = nn.Linear(hidden_size, num_classes)\n",
        "\n",
        "    def forward(self, x):\n",
        "        x = self.fc1(x)\n",
        "        x = self.relu(x)\n",
        "        x = self.fc2(x)\n",
        "        return x\n",
        "\n"
      ],
      "metadata": {
        "id": "92FhbJLUsq-c"
      },
      "execution_count": null,
      "outputs": []
    },
    {
      "cell_type": "code",
      "source": [
        "# Setting a random seed for reproducibility\n",
        "torch.manual_seed(42)\n",
        "\n",
        "# Number of hidden layer nodes\n",
        "hl = 10\n",
        "\n",
        "# Define the neural network\n",
        "model = PenguinClassifier(input_size=4, hidden_size=hl, num_classes=3)\n",
        "\n",
        "print(model)"
      ],
      "metadata": {
        "colab": {
          "base_uri": "https://localhost:8080/"
        },
        "id": "vhUI6Wd9s6Dc",
        "outputId": "e0f1e602-3b0b-4752-efde-fcc4d01b4d03"
      },
      "execution_count": null,
      "outputs": [
        {
          "output_type": "stream",
          "name": "stdout",
          "text": [
            "PenguinClassifier(\n",
            "  (fc1): Linear(in_features=4, out_features=10, bias=True)\n",
            "  (relu): ReLU()\n",
            "  (fc2): Linear(in_features=10, out_features=3, bias=True)\n",
            ")\n"
          ]
        }
      ]
    },
    {
      "cell_type": "code",
      "source": [
        "# Specify the loss criteria (CrossEntropyLoss for multi-class classification)\n",
        "criterion = nn.CrossEntropyLoss()\n",
        "\n",
        "# Use the Adam optimizer\n",
        "optimizer = optim.Adam(model.parameters(), lr=0.001)"
      ],
      "metadata": {
        "id": "igjtvZWCs-T4"
      },
      "execution_count": null,
      "outputs": []
    },
    {
      "cell_type": "markdown",
      "source": [
        "no_grad() is a pyTorch context manager that disables gradient computation. We use this while we are making predictions or on a validation set. Since we dont update our parameters, using this we can reduce our memory comsumption and speed up computation.\n",
        "\n",
        "ref: https://maiminh1996.github.io/distilled/pytorch/disable-gradient-computation.html"
      ],
      "metadata": {
        "id": "9qx24rAz_67s"
      }
    },
    {
      "cell_type": "code",
      "source": [
        "# Train the model\n",
        "n_epochs = 50\n",
        "\n",
        "for epoch in range(n_epochs):\n",
        "    model.train()\n",
        "    for batch_X, batch_y in train_loader:\n",
        "        optimizer.zero_grad()\n",
        "        outputs = model(batch_X)\n",
        "        loss = criterion(outputs, batch_y)\n",
        "        loss.backward()\n",
        "        optimizer.step()\n",
        "\n",
        "    # Evaluate the model on the test set\n",
        "    # This is the Validation phase where we switch back to evaluation mode ---\n",
        "    #---so we dont backpropagate using model.eval()\n",
        "model.eval()\n",
        "with torch.no_grad():\n",
        "    correct = 0\n",
        "    total = 0\n",
        "    total_loss = 0\n",
        "\n",
        "    for test_X, test_y in test_loader:\n",
        "        test_outputs = model(test_X)\n",
        "        _, predicted = torch.max(test_outputs.data, 1)\n",
        "        total += test_y.size(0)\n",
        "        correct += (predicted == test_y).sum().item()\n",
        "        test_loss = criterion(test_outputs, test_y)\n",
        "        total_loss += test_loss.item()\n",
        "    accuracy = correct / total\n",
        "    avg_test_loss = total_loss / len(test_loader)\n",
        "\n",
        "    # Printing the validation set results\n",
        "    print('Validation set: Average loss: {:.6f}, Accuracy: {:.2f}%'.format(avg_test_loss, accuracy * 100))\n",
        "\n"
      ],
      "metadata": {
        "colab": {
          "base_uri": "https://localhost:8080/"
        },
        "id": "52j2WWuCtBjZ",
        "outputId": "3cf91d20-a5f2-408d-d011-edd5b049fa50"
      },
      "execution_count": null,
      "outputs": [
        {
          "output_type": "stream",
          "name": "stdout",
          "text": [
            "Validation set: Average loss: 0.101236, Accuracy: 96.15%\n"
          ]
        }
      ]
    },
    {
      "cell_type": "code",
      "source": [
        "# Save the trained model\n",
        "torch.save(model.state_dict(), 'penguin_model_classifier.pth')\n",
        "\n",
        "# Load the saved model\n",
        "loaded_model = PenguinClassifier(input_size=4, hidden_size=hl, num_classes=3)\n",
        "loaded_model.load_state_dict(torch.load('penguin_model_classifier.pth'))\n",
        "#eval() is used to set the model in evaluation mode\n",
        "loaded_model.eval()\n"
      ],
      "metadata": {
        "colab": {
          "base_uri": "https://localhost:8080/"
        },
        "id": "qf_dEMAituAE",
        "outputId": "54ff28b1-e32e-43bf-d4ef-79a3c533a739"
      },
      "execution_count": null,
      "outputs": [
        {
          "output_type": "execute_result",
          "data": {
            "text/plain": [
              "PenguinClassifier(\n",
              "  (fc1): Linear(in_features=4, out_features=10, bias=True)\n",
              "  (relu): ReLU()\n",
              "  (fc2): Linear(in_features=10, out_features=3, bias=True)\n",
              ")"
            ]
          },
          "metadata": {},
          "execution_count": 61
        }
      ]
    },
    {
      "cell_type": "code",
      "source": [
        "import matplotlib.pyplot as plt\n",
        "\n",
        "# Loading the saved model\n",
        "loaded_model = PenguinClassifier(input_size=4, hidden_size=hl, num_classes=3)\n",
        "loaded_model.load_state_dict(torch.load('penguin_model_classifier.pth'))\n",
        "loaded_model.eval()\n",
        "\n",
        "# training for additional epochs\n",
        "new_training_epochs = 50\n",
        "\n",
        "for epoch in range(new_training_epochs):\n",
        "    loaded_model.train()\n",
        "    for batch_X, batch_y in train_loader:\n",
        "        optimizer.zero_grad()\n",
        "        outputs = loaded_model(batch_X)\n",
        "        loss = criterion(outputs, batch_y)\n",
        "        loss.backward()\n",
        "        optimizer.step()\n",
        "\n",
        "    # now we Evaluate the loaded model on remaining test set\n",
        "    loaded_model.eval()\n",
        "    with torch.no_grad():\n",
        "        correct = 0\n",
        "        total = 0\n",
        "        for test_X, test_y in test_loader:\n",
        "            test_outputs = loaded_model(test_X)\n",
        "            _, predicted = torch.max(test_outputs.data, 1)\n",
        "            total += test_y.size(0)\n",
        "            correct += (predicted == test_y).sum().item()\n",
        "\n",
        "    accuracy = correct / total\n",
        "\n",
        "    # Print training statistics including learning rate\n",
        "    print('Epoch [{}/{}], Loss: {:.6f}, Accuracy: {:.2f}%'.format(\n",
        "        epoch + 1, new_training_epochs, loss.item(), accuracy * 100))"
      ],
      "metadata": {
        "colab": {
          "base_uri": "https://localhost:8080/"
        },
        "id": "6gjVN0VBvADX",
        "outputId": "8a8315fd-36a4-43a8-b818-fbb5619e67f2"
      },
      "execution_count": null,
      "outputs": [
        {
          "output_type": "stream",
          "name": "stdout",
          "text": [
            "Epoch [1/50], Loss: 0.030086, Accuracy: 97.12%\n",
            "Epoch [2/50], Loss: 0.016038, Accuracy: 97.12%\n",
            "Epoch [3/50], Loss: 0.078557, Accuracy: 97.12%\n",
            "Epoch [4/50], Loss: 0.002531, Accuracy: 97.12%\n",
            "Epoch [5/50], Loss: 0.011801, Accuracy: 97.12%\n",
            "Epoch [6/50], Loss: 0.009282, Accuracy: 97.12%\n",
            "Epoch [7/50], Loss: 0.007029, Accuracy: 97.12%\n",
            "Epoch [8/50], Loss: 0.029385, Accuracy: 97.12%\n",
            "Epoch [9/50], Loss: 0.065699, Accuracy: 97.12%\n",
            "Epoch [10/50], Loss: 0.303529, Accuracy: 97.12%\n",
            "Epoch [11/50], Loss: 0.100199, Accuracy: 97.12%\n",
            "Epoch [12/50], Loss: 0.009218, Accuracy: 97.12%\n",
            "Epoch [13/50], Loss: 0.087160, Accuracy: 97.12%\n",
            "Epoch [14/50], Loss: 0.005032, Accuracy: 97.12%\n",
            "Epoch [15/50], Loss: 0.019990, Accuracy: 97.12%\n",
            "Epoch [16/50], Loss: 0.034216, Accuracy: 97.12%\n",
            "Epoch [17/50], Loss: 0.125659, Accuracy: 97.12%\n",
            "Epoch [18/50], Loss: 0.082131, Accuracy: 97.12%\n",
            "Epoch [19/50], Loss: 0.036839, Accuracy: 97.12%\n",
            "Epoch [20/50], Loss: 0.032889, Accuracy: 97.12%\n",
            "Epoch [21/50], Loss: 0.006774, Accuracy: 97.12%\n",
            "Epoch [22/50], Loss: 0.004217, Accuracy: 97.12%\n",
            "Epoch [23/50], Loss: 0.013970, Accuracy: 97.12%\n",
            "Epoch [24/50], Loss: 0.039176, Accuracy: 97.12%\n",
            "Epoch [25/50], Loss: 0.023349, Accuracy: 97.12%\n",
            "Epoch [26/50], Loss: 0.019800, Accuracy: 97.12%\n",
            "Epoch [27/50], Loss: 0.067171, Accuracy: 97.12%\n",
            "Epoch [28/50], Loss: 0.387731, Accuracy: 97.12%\n",
            "Epoch [29/50], Loss: 0.025302, Accuracy: 97.12%\n",
            "Epoch [30/50], Loss: 0.102297, Accuracy: 97.12%\n",
            "Epoch [31/50], Loss: 0.163611, Accuracy: 97.12%\n",
            "Epoch [32/50], Loss: 0.106430, Accuracy: 97.12%\n",
            "Epoch [33/50], Loss: 0.033897, Accuracy: 97.12%\n",
            "Epoch [34/50], Loss: 0.021853, Accuracy: 97.12%\n",
            "Epoch [35/50], Loss: 0.019099, Accuracy: 97.12%\n",
            "Epoch [36/50], Loss: 0.047311, Accuracy: 97.12%\n",
            "Epoch [37/50], Loss: 0.478993, Accuracy: 97.12%\n",
            "Epoch [38/50], Loss: 0.000354, Accuracy: 97.12%\n",
            "Epoch [39/50], Loss: 0.070344, Accuracy: 97.12%\n",
            "Epoch [40/50], Loss: 0.063662, Accuracy: 97.12%\n",
            "Epoch [41/50], Loss: 0.004842, Accuracy: 97.12%\n",
            "Epoch [42/50], Loss: 0.010338, Accuracy: 97.12%\n",
            "Epoch [43/50], Loss: 0.005256, Accuracy: 97.12%\n",
            "Epoch [44/50], Loss: 0.114371, Accuracy: 97.12%\n",
            "Epoch [45/50], Loss: 0.154553, Accuracy: 97.12%\n",
            "Epoch [46/50], Loss: 0.342081, Accuracy: 97.12%\n",
            "Epoch [47/50], Loss: 0.084911, Accuracy: 97.12%\n",
            "Epoch [48/50], Loss: 0.074569, Accuracy: 97.12%\n",
            "Epoch [49/50], Loss: 0.018015, Accuracy: 97.12%\n",
            "Epoch [50/50], Loss: 0.004196, Accuracy: 97.12%\n"
          ]
        }
      ]
    },
    {
      "cell_type": "code",
      "source": [
        "# Lists to store training and validation losses for plotting\n",
        "new_train_losses = []\n",
        "new_validation_losses = []\n",
        "\n",
        "# Additional Training Loop\n",
        "for epoch in range(new_training_epochs):\n",
        "    loaded_model.train()\n",
        "    total_loss = 0\n",
        "\n",
        "    for batch_X, batch_y in train_loader:\n",
        "        optimizer.zero_grad()\n",
        "        outputs = loaded_model(batch_X)\n",
        "        loss = criterion(outputs, batch_y)\n",
        "        loss.backward()\n",
        "        optimizer.step()\n",
        "\n",
        "        total_loss += loss.item()\n",
        "\n",
        "    avg_train_loss = total_loss / len(train_loader)\n",
        "    new_train_losses.append(avg_train_loss)\n",
        "\n",
        "    # Validation Loop\n",
        "    loaded_model.eval()\n",
        "    with torch.no_grad():\n",
        "        validation_loss = 0\n",
        "\n",
        "        for test_X, test_y in test_loader:\n",
        "            test_outputs = loaded_model(test_X)\n",
        "            loss = criterion(test_outputs, test_y)\n",
        "            validation_loss += loss.item()\n",
        "\n",
        "        # Calculate average validation loss for the epoch\n",
        "        avg_validation_loss = validation_loss / len(test_loader)\n",
        "        new_validation_losses.append(avg_validation_loss)\n",
        "\n",
        "    # Print and log the losses\n",
        "    print('Epoch [{}/{}], Training Loss: {:.6f}, Validation Loss: {:.6f}'.format(\n",
        "        epoch + 1, new_training_epochs, avg_train_loss, avg_validation_loss))\n",
        "\n"
      ],
      "metadata": {
        "colab": {
          "base_uri": "https://localhost:8080/"
        },
        "id": "8jcY8u7eDtWu",
        "outputId": "c070cad6-22a4-46ff-af07-649dcef3e0ea"
      },
      "execution_count": null,
      "outputs": [
        {
          "output_type": "stream",
          "name": "stdout",
          "text": [
            "Epoch [1/50], Training Loss: 0.089411, Validation Loss: 0.087960\n",
            "Epoch [2/50], Training Loss: 0.086647, Validation Loss: 0.087960\n",
            "Epoch [3/50], Training Loss: 0.085651, Validation Loss: 0.087960\n",
            "Epoch [4/50], Training Loss: 0.085202, Validation Loss: 0.087960\n",
            "Epoch [5/50], Training Loss: 0.085811, Validation Loss: 0.087960\n",
            "Epoch [6/50], Training Loss: 0.088982, Validation Loss: 0.087960\n",
            "Epoch [7/50], Training Loss: 0.090710, Validation Loss: 0.087960\n",
            "Epoch [8/50], Training Loss: 0.084974, Validation Loss: 0.087960\n",
            "Epoch [9/50], Training Loss: 0.086108, Validation Loss: 0.087960\n",
            "Epoch [10/50], Training Loss: 0.086248, Validation Loss: 0.087960\n",
            "Epoch [11/50], Training Loss: 0.084472, Validation Loss: 0.087960\n",
            "Epoch [12/50], Training Loss: 0.092702, Validation Loss: 0.087960\n",
            "Epoch [13/50], Training Loss: 0.084671, Validation Loss: 0.087960\n",
            "Epoch [14/50], Training Loss: 0.085214, Validation Loss: 0.087960\n",
            "Epoch [15/50], Training Loss: 0.085037, Validation Loss: 0.087960\n",
            "Epoch [16/50], Training Loss: 0.084524, Validation Loss: 0.087960\n",
            "Epoch [17/50], Training Loss: 0.084173, Validation Loss: 0.087960\n",
            "Epoch [18/50], Training Loss: 0.085992, Validation Loss: 0.087960\n",
            "Epoch [19/50], Training Loss: 0.086177, Validation Loss: 0.087960\n",
            "Epoch [20/50], Training Loss: 0.084438, Validation Loss: 0.087960\n",
            "Epoch [21/50], Training Loss: 0.085681, Validation Loss: 0.087960\n",
            "Epoch [22/50], Training Loss: 0.085848, Validation Loss: 0.087960\n",
            "Epoch [23/50], Training Loss: 0.091597, Validation Loss: 0.087960\n",
            "Epoch [24/50], Training Loss: 0.088934, Validation Loss: 0.087960\n",
            "Epoch [25/50], Training Loss: 0.084163, Validation Loss: 0.087960\n",
            "Epoch [26/50], Training Loss: 0.084737, Validation Loss: 0.087960\n",
            "Epoch [27/50], Training Loss: 0.084196, Validation Loss: 0.087960\n",
            "Epoch [28/50], Training Loss: 0.084830, Validation Loss: 0.087960\n",
            "Epoch [29/50], Training Loss: 0.084586, Validation Loss: 0.087960\n",
            "Epoch [30/50], Training Loss: 0.085411, Validation Loss: 0.087960\n",
            "Epoch [31/50], Training Loss: 0.084824, Validation Loss: 0.087960\n",
            "Epoch [32/50], Training Loss: 0.086240, Validation Loss: 0.087960\n",
            "Epoch [33/50], Training Loss: 0.084160, Validation Loss: 0.087960\n",
            "Epoch [34/50], Training Loss: 0.088715, Validation Loss: 0.087960\n",
            "Epoch [35/50], Training Loss: 0.089117, Validation Loss: 0.087960\n",
            "Epoch [36/50], Training Loss: 0.084975, Validation Loss: 0.087960\n",
            "Epoch [37/50], Training Loss: 0.084452, Validation Loss: 0.087960\n",
            "Epoch [38/50], Training Loss: 0.085389, Validation Loss: 0.087960\n",
            "Epoch [39/50], Training Loss: 0.085864, Validation Loss: 0.087960\n",
            "Epoch [40/50], Training Loss: 0.089647, Validation Loss: 0.087960\n",
            "Epoch [41/50], Training Loss: 0.098078, Validation Loss: 0.087960\n",
            "Epoch [42/50], Training Loss: 0.084483, Validation Loss: 0.087960\n",
            "Epoch [43/50], Training Loss: 0.091209, Validation Loss: 0.087960\n",
            "Epoch [44/50], Training Loss: 0.088779, Validation Loss: 0.087960\n",
            "Epoch [45/50], Training Loss: 0.089079, Validation Loss: 0.087960\n",
            "Epoch [46/50], Training Loss: 0.091833, Validation Loss: 0.087960\n",
            "Epoch [47/50], Training Loss: 0.084365, Validation Loss: 0.087960\n",
            "Epoch [48/50], Training Loss: 0.085352, Validation Loss: 0.087960\n",
            "Epoch [49/50], Training Loss: 0.086367, Validation Loss: 0.087960\n",
            "Epoch [50/50], Training Loss: 0.089857, Validation Loss: 0.087960\n"
          ]
        }
      ]
    },
    {
      "cell_type": "code",
      "source": [
        "# Plot the loss curves\n",
        "plt.plot(range(1, new_training_epochs + 1), new_train_losses, label='Training Loss')\n",
        "plt.plot(range(1, new_training_epochs + 1), new_validation_losses, label='Validation Loss')\n",
        "plt.xlabel('Epoch')\n",
        "plt.ylabel('Loss')\n",
        "plt.legend()\n",
        "plt.show()"
      ],
      "metadata": {
        "colab": {
          "base_uri": "https://localhost:8080/",
          "height": 449
        },
        "id": "LELsVxTbEt_8",
        "outputId": "9b887bdd-1904-4458-9ac6-1c609fca3abf"
      },
      "execution_count": null,
      "outputs": [
        {
          "output_type": "display_data",
          "data": {
            "text/plain": [
              "<Figure size 640x480 with 1 Axes>"
            ],
            "image/png": "[encoded data removed]"
          },
          "metadata": {}
        }
      ]
    },
    {
      "cell_type": "code",
      "source": [
        "# View the learned weights and biases\n",
        "for param_tensor in loaded_model.state_dict():\n",
        "    print(param_tensor, \"\\n\", loaded_model.state_dict()[param_tensor].numpy())\n",
        "\n",
        "# Evaluate model performance\n",
        "loaded_model.eval()\n",
        "with torch.no_grad():\n",
        "    correct = 0\n",
        "    total = 0\n",
        "    for test_X, test_y in test_loader:\n",
        "        test_outputs = loaded_model(test_X)\n",
        "        _, predicted = torch.max(test_outputs.data, 1)\n",
        "        total += test_y.size(0)\n",
        "        correct += (predicted == test_y).sum().item()\n",
        "\n",
        "    accuracy = correct / total\n",
        "    print('After Additional Training on new values, Accuracy on Test Set: {:.2f}%'.format(accuracy))\n",
        "\n",
        "# Save the trained model\n",
        "torch.save(loaded_model.state_dict(), 'additional_trained_model.pth')\n",
        "\n",
        "# Use the trained model for inference\n",
        "x_new = torch.tensor([[50.4, 15.3, 20, 50]], dtype=torch.float32)\n",
        "predicted_class = torch.argmax(loaded_model(x_new)).item()\n",
        "\n",
        "print('Predicted Class for New Data:', predicted_class)"
      ],
      "metadata": {
        "colab": {
          "base_uri": "https://localhost:8080/"
        },
        "id": "-LKLW3AAESnM",
        "outputId": "48afc1d4-1f87-4b95-c793-ef74d44c41dd"
      },
      "execution_count": null,
      "outputs": [
        {
          "output_type": "stream",
          "name": "stdout",
          "text": [
            "fc1.weight \n",
            " [[ 0.45665053  0.0537829  -0.05506463 -0.03876657]\n",
            " [-0.10955179  0.10089535 -0.24342752  0.29364133]\n",
            " [ 0.5666652  -0.9105936   1.20702     0.32855698]\n",
            " [ 0.28106305  0.41879132  0.22143883  0.4781253 ]\n",
            " [ 0.36478058  0.1747151   1.0047293   1.3775566 ]\n",
            " [-0.23036832 -0.05863643 -0.20307916  0.33168548]\n",
            " [-0.3946851  -0.23050517 -0.14118737 -0.30063623]\n",
            " [ 0.04719156 -0.49383956  0.45155454 -0.42473412]\n",
            " [ 0.22367153  0.61649966 -1.3109796  -0.6601415 ]\n",
            " [ 0.05317665  0.446461   -1.6185713  -1.6885858 ]]\n",
            "fc1.bias \n",
            " [-0.3699846  -0.13558972 -0.29726493  0.9574291   0.8245642  -0.21858627\n",
            "  0.28863233  0.08946311  0.24758829 -0.83993286]\n",
            "fc2.weight \n",
            " [[-0.3208217  -0.12217793 -1.0634327   0.2948844   0.05861188  0.13098583\n",
            "   0.10001057 -0.00550109  0.33113435  0.07662421]\n",
            " [ 0.07223777 -0.21583815  0.6833125  -0.08500908  0.23170666 -0.06588336\n",
            "   0.26227674 -0.1874288  -0.30677715 -0.72546893]\n",
            " [ 0.26327524  0.10538325  0.43284205 -0.30353892 -0.37904033 -0.24740514\n",
            "  -0.21272296  0.12808494  0.12212061  0.34211516]]\n",
            "fc2.bias \n",
            " [ 0.28367478  0.06829295 -0.3579083 ]\n",
            "After Additional Training on new values, Accuracy on Test Set: 0.97%\n",
            "Predicted Class for New Data: 1\n"
          ]
        }
      ]
    }
  ]
}